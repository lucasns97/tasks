{
 "cells": [
  {
   "cell_type": "markdown",
   "metadata": {},
   "source": [
    "# Monitoramento -  Multiclasses - Não Supervisionado\n",
    "\n",
    "Um conjunto de dados batch é analizado atraves de duas janelas deslizantes, refência e target, comparando as janelas com a estátitica Jensen-Shannon Divergence e a estaimação feita pelo algoritmo [SPEAR](https://arxiv.org/abs/1908.04240).<br>\n",
    "### **Em caso de dúvidas, consulte os [tutoriais da PlatIAgro](https://platiagro.github.io/tutorials/).**"
   ]
  },
  {
   "cell_type": "code",
   "execution_count": null,
   "metadata": {
    "tags": [
     "parameters"
    ]
   },
   "outputs": [],
   "source": [
    "# parameters\n",
    "dataset = \"/tmp/data/history.csv\" #@param {type:\"string\"}\n",
    "\n",
    "# hyperparameters\n",
    "n_target = 50 #@param {type:\"integer\",label:\"Tamanho da janela alvo\"}\n",
    "n_ref = 5 * n_target #@param {type:\"integer\",label:\"Tamanho da janela de referência\"}\n",
    "K = 3 #@param {type:\"integer\",label:\"Sensibilidade do limite\",description:\"Quanto mais próximo de 0 mais sensível, quanto mais próximo de 3 mais conservador\"}"
   ]
  },
  {
   "cell_type": "code",
   "execution_count": null,
   "metadata": {},
   "outputs": [],
   "source": [
    "import pandas as pd\n",
    "import numpy as np\n",
    "\n",
    "df = pd.read_csv(dataset)\n",
    "scores = []\n",
    "\n",
    "for column in df.columns:\n",
    "    if \"predict_proba\" in column:\n",
    "        scores.append(df[column].tolist())\n",
    "\n",
    "y_prob_test = np.array(scores).T\n",
    "y_prob_test.shape"
   ]
  },
  {
   "cell_type": "code",
   "execution_count": null,
   "metadata": {},
   "outputs": [],
   "source": [
    "y_prob_test"
   ]
  },
  {
   "cell_type": "markdown",
   "metadata": {},
   "source": [
    "## Calculando distância entre as janelas\n",
    "\n",
    "Jensen-Shannon Divergence: teste de hipótese qual verifica se o histograma de ambas das distribuições são parecidas/semelhantes a um nível de significancia de 0.05. Nos retorna um valor no intervalo [0, 1] onde 0 seria dizer que são a mesma distribuição e 1 se são completamente diferentes."
   ]
  },
  {
   "cell_type": "code",
   "execution_count": null,
   "metadata": {},
   "outputs": [],
   "source": [
    "from scipy.stats import entropy\n",
    "from numpy.linalg import norm\n",
    "\n",
    "def JSD(P, Q, n_target):\n",
    "    _P = np.histogram(P, n_target-1)[1] # para ambas ficarem do mesmo tamanho\n",
    "    _P = _P / norm(_P, ord=1)\n",
    "    _Q = Q / norm(Q, ord=1)\n",
    "    _M = 0.5 * (_P + _Q)\n",
    "    return 0.5 * (entropy(_P, _M) + entropy(_Q, _M))"
   ]
  },
  {
   "cell_type": "markdown",
   "metadata": {},
   "source": [
    "## Algoritimos de estimação interativa de percentis.\n",
    "\n",
    "Esta métrica de semelhança é comparada com outra, qual chamaremos de limite. O limite é calculado por uma combinação linear da estimação de percentis das janelas de reférencia. Para esta estimação temos as opções:\n",
    "\n",
    "TDigest: estima e atualiza os percentis a cada nova observação adicionada.\n",
    "\n",
    "SPEAR: Indicado no paper [aqui](https://arxiv.org/pdf/1908.04240.pdf), este algoritmo iterativo dá mais peso as novas observações e se atualiza. "
   ]
  },
  {
   "cell_type": "code",
   "execution_count": null,
   "metadata": {},
   "outputs": [],
   "source": [
    "## Algoritmo SPEAR\n",
    "def UpdatePercentiles(P,X,C):\n",
    "    n = 100\n",
    "    \n",
    "    c_per_bin = C/n\n",
    "    c_target = (C+1)/n    \n",
    "    c_this = c_per_bin\n",
    "\n",
    "    if (X < P[0]):\n",
    "        P[0] = X\n",
    "    if (X < P[1]):\n",
    "        c_this = c_this + 1\n",
    "        \n",
    "    for i in range(1, n-1):\n",
    "        delta_c = c_target - c_this \n",
    "        if (delta_c > 0):\n",
    "\n",
    "            if (P[i+1] - P[i] == 0):\n",
    "                div = 0.000001 # divisão estava dando 0\n",
    "                if(X < P[i+1]):\n",
    "                    rho_next = (1 + c_per_bin) / div \n",
    "                else:\n",
    "                    rho_next = c_per_bin / div\n",
    "                c_this = rho_next * div\n",
    "            else:\n",
    "                if(X < P[i+1]):\n",
    "                    rho_next = (1 + c_per_bin) / (P[i+1] - P[i])\n",
    "                else:\n",
    "                    rho_next = c_per_bin / (P[i+1] - P[i])\n",
    "                c_this = rho_next * (P[i+1] - P[i])\n",
    "                \n",
    "            P[i] = P[i] + delta_c/rho_next\n",
    "        else:\n",
    "\n",
    "            if(P[i] - P[i-1] == 0):\n",
    "                div = 0.000001\n",
    "                rho_this = c_this / div\n",
    "            else:\n",
    "                 rho_this = c_this / (P[i] - P[i-1])\n",
    "                               \n",
    "            P[i] = P[i] + delta_c/rho_this\n",
    "            c_this = c_per_bin - delta_c\n",
    "            \n",
    "    if (X > P[n-1]):\n",
    "        P[n-1] = X\n",
    "    return P"
   ]
  },
  {
   "cell_type": "markdown",
   "metadata": {},
   "source": [
    "## Deslisando Janelas e Salvando gráficos\n",
    "\n",
    "Na metodologia SAMM de janela móvel temos o vetor de steammer, os escores, pós avaliação do método de machine learning escolhido.\n",
    "Nesta metodologia, temos uma janela maior, conjunto de dados de referência, e uma janela menor, dados a serem validados através da comparação com a janela de referência.\n",
    "A janela de referência tende a ser de 2 a 5 vezes maior do que a janela alvo(target), isto para que a janela target seja suficientemente pequena para conter anomalias e que estas anomalias não sejam “diluídas” neste conjunto de dados, assim, sendo mais identificáveis."
   ]
  },
  {
   "cell_type": "code",
   "execution_count": null,
   "metadata": {},
   "outputs": [],
   "source": [
    "import plotly as py\n",
    "import plotly.graph_objs as go\n",
    "from plotly.subplots import make_subplots"
   ]
  },
  {
   "cell_type": "code",
   "execution_count": null,
   "metadata": {},
   "outputs": [],
   "source": [
    "levels = y_prob_test.shape[1]"
   ]
  },
  {
   "cell_type": "code",
   "execution_count": null,
   "metadata": {},
   "outputs": [],
   "source": [
    "for n in range(0, levels):\n",
    "\n",
    "    stream = y_prob_test[:10000, n]\n",
    "    # inicailiazando todas as variaveis\n",
    "    \n",
    "    alarme_soou = 0\n",
    "    win_ref = []\n",
    "    win_target = []\n",
    "    threshold2 = [] #* n_ref # SPEAR\n",
    "    dist_jds = []\n",
    "    P_SPEAR = np.asarray([], dtype=np.float64)\n",
    "    verdadeiro_percent = np.asarray([], dtype=np.float64)\n",
    "\n",
    "\n",
    "    X = stream[0]\n",
    "    stream = np.delete(stream, 0)\n",
    "    win_ref.append(X)\n",
    "\n",
    "    alarme_soou = 0\n",
    "    C = 0\n",
    "    i = 0\n",
    "\n",
    "    while stream.size: # tamanho max janelas desse batch\n",
    "\n",
    "        X = stream[0]\n",
    "        stream = np.delete(stream, 0)\n",
    "        C = C + 1\n",
    "\n",
    "        if (C < n_ref):\n",
    "            win_ref.append(X)\n",
    "            # adiciona os primeitos n elementos, quais estão na janela referencia\n",
    "\n",
    "        elif (C < n_ref + n_target):\n",
    "            win_target.append(X)\n",
    "            # atualiza os proximos n+1 até o fim da janela target\n",
    "\n",
    "        else:     \n",
    "            # agora que temos win_ref e win_targer devidamente preenchidos posso fazer a medição do JSD\n",
    "            flag = JSD(win_ref, win_target, n_target) \n",
    "            verdadeiro_percent = np.append(flag, verdadeiro_percent )\n",
    "            verdadeiro_percent = np.sort(verdadeiro_percent )\n",
    "            \n",
    "            if (C > n_ref + n_target + 100):\n",
    "                # só aplico a funação de UpdatePercentile depois qeu já tiver as 100 pesições preenchidas e ordenadas\n",
    "                UpdatePercentiles(P_SPEAR, flag, C)\n",
    "                    \n",
    "                #percentil atualiuzado, posso calcular o threshold\n",
    "                T_SPEAR = P_SPEAR[75] + K * (P_SPEAR[75] - P_SPEAR[25])\n",
    "                threshold2.append(T_SPEAR)\n",
    "                    \n",
    "                #posso começar a guardar vetor JSD\n",
    "                dist_jds.append(flag)\n",
    "                if flag > T_SPEAR:\n",
    "                    alarme_soou = alarme_soou + 1\n",
    "#                 else:\n",
    "#                     alarme_soou = 0\n",
    "                    \n",
    "            else:\n",
    "                # preciso ter 100 elementos nesse vetor\n",
    "                P_SPEAR = np.append(flag, P_SPEAR)\n",
    "                P_SPEAR = np.sort(P_SPEAR)\n",
    "                                       \n",
    "            \n",
    "            \n",
    "            # agora começo a mover a janela\n",
    "            win_target.append(X)\n",
    "            aux = win_target.pop(0)\n",
    "\n",
    "            win_ref.append(aux)\n",
    "            win_ref.pop(0)\n",
    "\n",
    "\n",
    "\n",
    "    # Constuindo gráficos  \n",
    "    threshold2 = np.asarray(threshold2, dtype=np.float64)\n",
    "    dist_jds = np.asarray(dist_jds, dtype=np.float64)\n",
    "    axis_x = list(range(0, len(dist_jds)))\n",
    "\n",
    "    ## Visualização Plot.ly \n",
    "    par = make_subplots(rows=3, cols=1)\n",
    "\n",
    "    trace1 = go.Scatter(\n",
    "                    x = axis_x,\n",
    "                    y = dist_jds,\n",
    "                    mode = \"lines\",\n",
    "                    name = \"JDS\",\n",
    "                    marker = dict(color = 'rgb(255, 102, 255)'),\n",
    "                    text = \"JDS\")\n",
    "    \n",
    "    trace2 = go.Scatter(\n",
    "                    x = axis_x,\n",
    "                    y = threshold2,\n",
    "                    mode = \"lines\",\n",
    "                    name = \"SPEAR\",\n",
    "                    marker = dict(color = 'rgb(102,102,255)'),\n",
    "                    text = \"SPEAR\")\n",
    "\n",
    "    data = [trace1, trace2]\n",
    "\n",
    "    # definir Labels\n",
    "    layout = go.Layout(title = 'Grafico de Linhas da categoria '+str(n),\n",
    "                      xaxis= dict(title= 'Passos da SAMM',ticklen= 5,zeroline= False),\n",
    "                      yaxis= dict(title= 'Métrica Limite',ticklen= 5,zeroline= False))\n",
    "    fig = go.Figure(data = data, layout = layout)\n",
    "\n",
    "    fig.show()"
   ]
  },
  {
   "cell_type": "code",
   "execution_count": null,
   "metadata": {},
   "outputs": [],
   "source": []
  },
  {
   "cell_type": "code",
   "execution_count": null,
   "metadata": {},
   "outputs": [],
   "source": []
  }
 ],
 "metadata": {
  "celltoolbar": "Tags",
  "kernelspec": {
   "display_name": "Python 3",
   "language": "python",
   "name": "python3"
  },
  "language_info": {
   "codemirror_mode": {
    "name": "ipython",
    "version": 3
   },
   "file_extension": ".py",
   "mimetype": "text/x-python",
   "name": "python",
   "nbconvert_exporter": "python",
   "pygments_lexer": "ipython3",
   "version": "3.7.9"
  }
 },
 "nbformat": 4,
 "nbformat_minor": 4
}
