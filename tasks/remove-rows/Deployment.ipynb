{
 "cells": [
  {
   "cell_type": "markdown",
   "metadata": {},
   "source": [
    "# Nova Tarefa - Implantação\n",
    "\n",
    "Preencha aqui com detalhes sobre a tarefa.<br>\n",
    "### **Em caso de dúvidas, consulte os [tutoriais da PlatIAgro](https://platiagro.github.io/tutorials/).**"
   ]
  },
  {
   "cell_type": "markdown",
   "metadata": {},
   "source": [
    "## Declaração de Classe para Predições em Tempo Real\n",
    "\n",
    "A tarefa de implantação cria um serviço REST para predições em tempo-real.<br>\n",
    "Para isso você deve criar uma classe `Model` que implementa o método `predict`."
   ]
  },
  {
   "cell_type": "code",
   "execution_count": null,
   "metadata": {},
   "outputs": [],
   "source": [
    "%%writefile Model.py\n",
    "# adicione imports aqui...\n",
    "\n",
    "class Model:\n",
    "    def __init__(self):\n",
    "        # adicione seu código aqui...\n",
    "        pass\n",
    "\n",
    "    def predict(self, X, feature_names, meta=None):\n",
    "        # adicione seu código aqui...\n",
    "        return X"
   ]
  }
 ],
 "metadata": {
  "celltoolbar": "Tags",
  "experiment_id": "bdf39750-90c6-47a1-8c2c-d8ce923fccea",
  "kernelspec": {
   "display_name": "Python 3",
   "language": "python",
   "name": "python3"
  },
  "language_info": {
   "codemirror_mode": {
    "name": "ipython",
    "version": 3
   },
   "file_extension": ".py",
   "mimetype": "text/x-python",
   "name": "python",
   "nbconvert_exporter": "python",
   "pygments_lexer": "ipython3",
   "version": "3.7.10"
  },
  "operator_id": "f61b6d61-6e27-4e78-8d61-e9e9a84985f8",
  "task_id": "b61a9ec0-4846-4754-9751-f9cb4d9ed4d7"
 },
 "nbformat": 4,
 "nbformat_minor": 4
}
