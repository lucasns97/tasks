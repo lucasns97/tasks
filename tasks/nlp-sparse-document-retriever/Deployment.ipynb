{
 "cells": [
  {
   "cell_type": "markdown",
   "metadata": {},
   "source": [
    "# Sparse Document Retriever - Implantação\n",
    "\n",
    "Preencha aqui com detalhes sobre a tarefa.<br>\n",
    "### **Em caso de dúvidas, consulte os [tutoriais da PlatIAgro](https://platiagro.github.io/tutorials/).**"
   ]
  },
  {
   "cell_type": "markdown",
   "metadata": {},
   "source": [
    "## Declaração de Classe para Predições em Tempo Real\n",
    "\n",
    "A tarefa de implantação cria um serviço REST para predições em tempo-real.<br>\n",
    "Para isso você deve criar uma classe `Model` que implementa o método `predict`."
   ]
  },
  {
   "cell_type": "code",
   "execution_count": 4,
   "metadata": {},
   "outputs": [],
   "source": [
    "from model_sparse_retriever import TfidfRetriever"
   ]
  },
  {
   "cell_type": "code",
   "execution_count": 5,
   "metadata": {},
   "outputs": [
    {
     "name": "stdout",
     "output_type": "stream",
     "text": [
      "Overwriting Model.py\n"
     ]
    }
   ],
   "source": [
    "%%writefile Model.py\n",
    "import joblib\n",
    "import pandas as pd\n",
    "import numpy as np\n",
    "import json\n",
    "\n",
    "\n",
    "class Model:\n",
    "    \n",
    "    def __init__(self):\n",
    "        \n",
    "        artifacts = joblib.load(\"/tmp/data/sparse_retriever.joblib\")\n",
    "        self.model = artifacts[\"model\"]\n",
    "        self.report_contexts = artifacts[\"report_contexts\"]\n",
    "    \n",
    "    def build_result_dataframe(self, sim_contexts_ids,scores):\n",
    "        sim_contexts = [self.report_contexts[i] for i in sim_contexts_ids[0]]\n",
    "        df = pd.DataFrame({'doc_id':sim_contexts_ids[0],'score':scores[0],'sim_contexts':sim_contexts})\n",
    "        df = df.sort_values(by=['score'], ascending=False).reset_index(drop=True)\n",
    "        return df\n",
    "\n",
    "    def predict(self, X, feature_names, meta=None):\n",
    "\n",
    "        question = X.copy()[0]\n",
    "        sim_contexts_ids,scores = self.model(question)\n",
    "        df = self.build_result_dataframe(sim_contexts_ids,scores)\n",
    "        df['question'] = [question]*len(scores[0])\n",
    "        return df.to_numpy() "
   ]
  },
  {
   "cell_type": "code",
   "execution_count": 6,
   "metadata": {},
   "outputs": [
    {
     "data": {
      "text/html": [
       "<div>\n",
       "<style scoped>\n",
       "    .dataframe tbody tr th:only-of-type {\n",
       "        vertical-align: middle;\n",
       "    }\n",
       "\n",
       "    .dataframe tbody tr th {\n",
       "        vertical-align: top;\n",
       "    }\n",
       "\n",
       "    .dataframe thead th {\n",
       "        text-align: right;\n",
       "    }\n",
       "</style>\n",
       "<table border=\"1\" class=\"dataframe\">\n",
       "  <thead>\n",
       "    <tr style=\"text-align: right;\">\n",
       "      <th></th>\n",
       "      <th>doc_id</th>\n",
       "      <th>score</th>\n",
       "      <th>sim_contexts</th>\n",
       "    </tr>\n",
       "  </thead>\n",
       "  <tbody>\n",
       "    <tr>\n",
       "      <th>0</th>\n",
       "      <td>842</td>\n",
       "      <td>0.143929</td>\n",
       "      <td>2. INTRODUÇÃO  No cultivo moderno de cereais ...</td>\n",
       "    </tr>\n",
       "    <tr>\n",
       "      <th>1</th>\n",
       "      <td>681</td>\n",
       "      <td>0.132135</td>\n",
       "      <td>6. CONCLUSÕES   Nas condições em que o projet...</td>\n",
       "    </tr>\n",
       "    <tr>\n",
       "      <th>2</th>\n",
       "      <td>854</td>\n",
       "      <td>0.113878</td>\n",
       "      <td>4.5 Avaliações: A avaliação de acamamento foi...</td>\n",
       "    </tr>\n",
       "    <tr>\n",
       "      <th>3</th>\n",
       "      <td>122</td>\n",
       "      <td>0.087426</td>\n",
       "      <td>4.2 Delineamento experimental e Tratamentos: ...</td>\n",
       "    </tr>\n",
       "    <tr>\n",
       "      <th>4</th>\n",
       "      <td>1251</td>\n",
       "      <td>0.086977</td>\n",
       "      <td>3. OBJETIVOS  Avaliar a eficácia de doses do ...</td>\n",
       "    </tr>\n",
       "    <tr>\n",
       "      <th>...</th>\n",
       "      <td>...</td>\n",
       "      <td>...</td>\n",
       "      <td>...</td>\n",
       "    </tr>\n",
       "    <tr>\n",
       "      <th>95</th>\n",
       "      <td>198</td>\n",
       "      <td>0.033807</td>\n",
       "      <td>Tabela 10. Fitotoxicidade visual e produtivida...</td>\n",
       "    </tr>\n",
       "    <tr>\n",
       "      <th>96</th>\n",
       "      <td>722</td>\n",
       "      <td>0.033774</td>\n",
       "      <td>Tabela 9. Fitotoxicidade visual e produtividad...</td>\n",
       "    </tr>\n",
       "    <tr>\n",
       "      <th>97</th>\n",
       "      <td>691</td>\n",
       "      <td>0.033676</td>\n",
       "      <td>2. INTRODUÇÃO   No contexto de plantas daninh...</td>\n",
       "    </tr>\n",
       "    <tr>\n",
       "      <th>98</th>\n",
       "      <td>713</td>\n",
       "      <td>0.033650</td>\n",
       "      <td>Tabela 6. Fitotoxicidade visual e produtividad...</td>\n",
       "    </tr>\n",
       "    <tr>\n",
       "      <th>99</th>\n",
       "      <td>1449</td>\n",
       "      <td>0.033630</td>\n",
       "      <td>2. INTRODUÇÃO   No sistema de cultivo de soja...</td>\n",
       "    </tr>\n",
       "  </tbody>\n",
       "</table>\n",
       "<p>100 rows × 3 columns</p>\n",
       "</div>"
      ],
      "text/plain": [
       "    doc_id     score                                       sim_contexts\n",
       "0      842  0.143929   2. INTRODUÇÃO  No cultivo moderno de cereais ...\n",
       "1      681  0.132135   6. CONCLUSÕES   Nas condições em que o projet...\n",
       "2      854  0.113878   4.5 Avaliações: A avaliação de acamamento foi...\n",
       "3      122  0.087426   4.2 Delineamento experimental e Tratamentos: ...\n",
       "4     1251  0.086977   3. OBJETIVOS  Avaliar a eficácia de doses do ...\n",
       "..     ...       ...                                                ...\n",
       "95     198  0.033807  Tabela 10. Fitotoxicidade visual e produtivida...\n",
       "96     722  0.033774  Tabela 9. Fitotoxicidade visual e produtividad...\n",
       "97     691  0.033676   2. INTRODUÇÃO   No contexto de plantas daninh...\n",
       "98     713  0.033650  Tabela 6. Fitotoxicidade visual e produtividad...\n",
       "99    1449  0.033630   2. INTRODUÇÃO   No sistema de cultivo de soja...\n",
       "\n",
       "[100 rows x 3 columns]"
      ]
     },
     "execution_count": 6,
     "metadata": {},
     "output_type": "execute_result"
    }
   ],
   "source": [
    "from Model import Model\n",
    "model = Model()\n",
    "model.predict([\"Qual é o melhor herbicida para erva da ninha ?\"],None)"
   ]
  }
 ],
 "metadata": {
  "celltoolbar": "Tags",
  "experiment_id": "e8cb4d06-3165-44d5-8cbc-7b9be0b9ef6d",
  "kernelspec": {
   "display_name": "Python 3",
   "language": "python",
   "name": "python3"
  },
  "language_info": {
   "codemirror_mode": {
    "name": "ipython",
    "version": 3
   },
   "file_extension": ".py",
   "mimetype": "text/x-python",
   "name": "python",
   "nbconvert_exporter": "python",
   "pygments_lexer": "ipython3",
   "version": "3.7.10"
  },
  "operator_id": "a6a2f8f7-c4eb-4dbe-aede-eaf75d45efb1",
  "task_id": "dfbd74fa-8ef1-4f10-b085-b2ff1e9c72f7"
 },
 "nbformat": 4,
 "nbformat_minor": 4
}