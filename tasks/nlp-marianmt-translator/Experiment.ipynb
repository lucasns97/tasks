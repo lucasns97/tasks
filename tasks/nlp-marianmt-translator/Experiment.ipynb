{
 "cells": [
  {
   "cell_type": "markdown",
   "metadata": {},
   "source": [
    "#  Tradução de Textos - Experimento\n",
    "## Utilização do modelo [MarianMT](https://huggingface.co/transformers/model_doc/marian.html) para tradução. \n",
    "\n",
    "\n",
    "* Neste exempo a tradução é feito do inglês para o português, mas ela pode ser feita em qualquer uma das línguas suportadas pelo MarianMT. \n",
    "* Para adaptar para traduções em outras línguas é necessário verificacar se há o modelo pré treinado disponível no MarianMT e adaptar o truncamento de strings do [spacy](https://spacy.io/usage/models) para o idioma desejado\n",
    "* A métrica computada é o [sacrebleu](https://https://github.com/mjpost/sacrebleu) \n",
    "\n",
    "\n",
    "### **Em caso de dúvidas, consulte os [tutoriais da PlatIAgro](https://platiagro.github.io/tutorials/).**"
   ]
  },
  {
   "cell_type": "markdown",
   "metadata": {},
   "source": [
    "## Declaração de parâmetros e hiperparâmetros\n",
    "\n",
    "Declare parâmetros com o botão <img src=\"data:image/png;base64,iVBORw0KGgoAAAANSUhEUgAAABQAAAAUCAYAAACNiR0NAAABhWlDQ1BJQ0MgcHJvZmlsZQAAKJF9kT1Iw0AcxV9TtaIVBzuIOASpThb8QhylikWwUNoKrTqYXPohNGlIUlwcBdeCgx+LVQcXZ10dXAVB8APEydFJ0UVK/F9SaBHjwXE/3t173L0DhFqJqWbbGKBqlpGMRcVMdkUMvKID3QhiCOMSM/V4aiENz/F1Dx9f7yI8y/vcn6NHyZkM8InEs0w3LOJ14ulNS+e8TxxiRUkhPiceNeiCxI9cl11+41xwWOCZISOdnCMOEYuFFpZbmBUNlXiKOKyoGuULGZcVzluc1VKFNe7JXxjMacsprtMcRAyLiCMBETIq2EAJFiK0aqSYSNJ+1MM/4PgT5JLJtQFGjnmUoUJy/OB/8LtbMz854SYFo0D7i21/DAOBXaBete3vY9uunwD+Z+BKa/rLNWDmk/RqUwsfAb3bwMV1U5P3gMsdoP9JlwzJkfw0hXweeD+jb8oCfbdA16rbW2Mfpw9AmrpaugEODoGRAmWveby7s7W3f880+vsBocZyukMJsmwAAAAGYktHRAD/AP8A/6C9p5MAAAAJcEhZcwAADdcAAA3XAUIom3gAAAAHdElNRQfkBgsMIwnXL7c0AAACDUlEQVQ4y92UP4gTQRTGf29zJxhJZ2NxbMBKziYWlmJ/ile44Nlkd+dIYWFzItiNgoIEtFaTzF5Ac/inE/urtLWxsMqmUOwCEpt1Zmw2xxKi53XitPO9H9978+aDf/3IUQvSNG0450Yi0jXG7C/eB0cFeu9viciGiDyNoqh2KFBrHSilWstgnU7nFLBTgl+ur6/7PwK11kGe5z3n3Hul1MaiuCgKDZwALHA7z/Oe1jpYCtRaB+PxuA8kQM1aW68Kt7e3zwBp6a5b1ibj8bhfhQYVZwMRiQHrvW9nWfaqCrTWPgRWvPdvsiy7IyLXgEJE4slk8nw+T5nDgDbwE9gyxryuwpRSF5xz+0BhrT07HA4/AyRJchUYASvAbhiGaRVWLIMBYq3tAojIszkMoNRulbXtPM8HwV/sXSQi54HvQRDcO0wfhGGYArvAKjAq2wAgiqJj3vsHpbtur9f7Vi2utLx60LLW2hljEuBJOYu9OI6vAzQajRvAaeBLURSPlsBelA+VhWGYaq3dwaZvbm6+m06noYicE5ErrVbrK3AXqHvvd4bD4Ye5No7jSERGwKr3Pms2m0pr7Rb30DWbTQWYcnFvAieBT7PZbFB1V6vVfpQaU4UtDQetdTCZTC557/eA48BlY8zbRZ1SqrW2tvaxCvtt2iRJ0i9/xb4x5uJRwmNlaaaJ3AfqIvKY/+78Av++6uiSZhYMAAAAAElFTkSuQmCC\" /> na barra de ferramentas.<br>\n",
    "A variável `dataset` possui o caminho para leitura do arquivos importados na tarefa de \"Upload de dados\".<br>\n",
    "Você também pode importar arquivos com o botão <img src=\"data:image/png;base64,iVBORw0KGgoAAAANSUhEUgAAABQAAAAUCAYAAACNiR0NAAABhWlDQ1BJQ0MgcHJvZmlsZQAAKJF9kT1Iw0AcxV9TtaIVBzuIOASpThb8QhylikWwUNoKrTqYXPohNGlIUlwcBdeCgx+LVQcXZ10dXAVB8APEydFJ0UVK/F9SaBHjwXE/3t173L0DhFqJqWbbGKBqlpGMRcVMdkUMvKID3QhiCOMSM/V4aiENz/F1Dx9f7yI8y/vcn6NHyZkM8InEs0w3LOJ14ulNS+e8TxxiRUkhPiceNeiCxI9cl11+41xwWOCZISOdnCMOEYuFFpZbmBUNlXiKOKyoGuULGZcVzluc1VKFNe7JXxjMacsprtMcRAyLiCMBETIq2EAJFiK0aqSYSNJ+1MM/4PgT5JLJtQFGjnmUoUJy/OB/8LtbMz854SYFo0D7i21/DAOBXaBete3vY9uunwD+Z+BKa/rLNWDmk/RqUwsfAb3bwMV1U5P3gMsdoP9JlwzJkfw0hXweeD+jb8oCfbdA16rbW2Mfpw9AmrpaugEODoGRAmWveby7s7W3f880+vsBocZyukMJsmwAAAAGYktHRAD/AP8A/6C9p5MAAAAJcEhZcwAADdcAAA3XAUIom3gAAAAHdElNRQfkBgsOBy6ASTeXAAAC/0lEQVQ4y5WUT2gcdRTHP29m99B23Uiq6dZisgoWCxVJW0oL9dqLfyhCvGWY2YUBI95MsXgwFISirQcLhS5hfgk5CF3wJIhFI7aHNsL2VFZFik1jS1qkiZKdTTKZ3/MyDWuz0fQLc/m99/vMvDfv+4RMlUrlkKqeAAaBAWAP8DSgwJ/AXRG5rao/WWsvTU5O3qKLBMD3fSMiPluXFZEPoyj67PGAMzw83PeEMABHVT/oGpiamnoAmCcEWhH5tFsgF4bh9oWFhfeKxeJ5a+0JVT0oImWgBPQCKfAQuAvcBq67rltX1b+6ApMkKRcKhe9V9QLwbavV+qRer692Sx4ZGSnEcXw0TdP3gSrQswGYz+d/S5IkVtXTwOlCoZAGQXAfmAdagAvsAErtdnuXiDy6+023l7qNRsMODg5+CawBzwB9wFPA7mx8ns/KL2Tl3xCRz5eWlkabzebahrHxPG+v4zgnc7ncufHx8Z+Hhoa29fT0lNM03Q30ikiqqg+ttX/EcTy3WTvWgdVqtddaOw/kgXvADHBHROZVNRaRvKruUNU+EdkPfGWM+WJTYOaSt1T1LPDS/4zLWWPMaLVaPWytrYvIaBRFl/4F9H2/JCKvGmMu+76/X0QOqGoZKDmOs1NV28AicMsYc97zvFdc1/0hG6kEeNsY83UnsCwivwM3VfU7YEZE7lhr74tIK8tbnJiYWPY8b6/ruleAXR0ftQy8boyZXi85CIIICDYpc2ZgYODY3NzcHmvt1eyvP64lETkeRdE1yZyixWLx5U2c8q4x5mIQBE1g33/0d3FlZeXFR06ZttZesNZejuO4q1NE5CPgWVV9E3ij47wB1IDlJEn+ljAM86urq7+KyAtZTgqsO0VV247jnOnv7/9xbGzMViqVMVX9uANYj6LonfVtU6vVkjRNj6jqGeCXzGrPAQeA10TkuKpOz87ONrayhnIA2Qo7BZwKw3B7kiRloKSqO13Xja21C47jPNgysFO1Wi0GmtmzQap6DWgD24A1Vb3SGf8Hfstmz1CuXEIAAAAASUVORK5CYII=\" /> na barra de ferramentas."
   ]
  },
  {
   "cell_type": "code",
   "execution_count": null,
   "metadata": {
    "tags": [
     "parameters"
    ]
   },
   "outputs": [],
   "source": [
    "# dataset = \"/tmp/data/paracrawl_en_pt_test.xlsx\" #@param {type:\"string\"}\n",
    "dataset = \"translate.xlsx\" \n",
    "text = \"text\" #@param {type:\"string\", label:\"Atributo do texto\", description:\"Este atributo será traduzido e apresentado o resultado.\"}\n",
    "target = \"target\" #@param {type:\"string\", label:\"Atributo alvo\", description:\"Seu modelo será validado com os valores do alvo.\"}\n",
    "input_language = \"Inglês\" #@param [\"Alemão\", \"Catalão\", \"Espanhol\", \"Francês\", \"Inglês\", \"Italiano\", \"Latim\", \"Português\", \"Romeno\"] {type:\"string\", label:\"Idioma de entrada\"}\n",
    "output_language = \"Português\" #@param [\"Alemão\", \"Catalão\", \"Espanhol\", \"Francês\", \"Inglês\", \"Italiano\", \"Latim\", \"Português\", \"Romeno\"] {type:\"string\", label:\"Idioma de saída\"}\n",
    "\n",
    "#Hyperparams \n",
    "seed = 42 #@param {type:\"integer\",label\"Semente de aleatoriedade\"}\n",
    "input_max_length = 127 #@param {type:\"integer\",label\"Tamanho máximo da sentença de entrada\"}\n",
    "output_max_length = 256 #@param {type:\"integer\",label\"Tamanho máximo da sentença de saída\"}\n",
    "inference_batch_size = 2 #@param {type:\"integer\",label\"Tamanho do Batch de inferência\"}"
   ]
  },
  {
   "cell_type": "code",
   "execution_count": null,
   "metadata": {},
   "outputs": [],
   "source": [
    "if input_language == output_language:\n",
    "    raise Exception('Idioma de entrada e de saída não podem ser iguais')"
   ]
  },
  {
   "cell_type": "markdown",
   "metadata": {},
   "source": [
    "## Acesso ao conjunto de dados\n",
    "\n",
    "O conjunto de dados utilizado nesta etapa será o mesmo carregado através da plataforma.<br>\n",
    "O tipo da variável retornada depende do arquivo de origem:\n",
    "- [pandas.DataFrame](https://pandas.pydata.org/pandas-docs/stable/reference/api/pandas.DataFrame.html) para CSV e compressed CSV: .csv .csv.zip .csv.gz .csv.bz2 .csv.xz\n",
    "- [Binary IO stream](https://docs.python.org/3/library/io.html#binary-i-o) para outros tipos de arquivo: .jpg .wav .zip .h5 .parquet etc"
   ]
  },
  {
   "cell_type": "code",
   "execution_count": null,
   "metadata": {},
   "outputs": [],
   "source": [
    "import pandas as pd\n",
    "\n",
    "df = pd.read_excel(dataset)"
   ]
  },
  {
   "cell_type": "markdown",
   "metadata": {},
   "source": [
    "## Formatar dados\n",
    "\n",
    "Dados nulos serão removidos e serão separados em colunas de teste e validação."
   ]
  },
  {
   "cell_type": "code",
   "execution_count": null,
   "metadata": {},
   "outputs": [],
   "source": [
    "df = df.dropna()\n",
    "X = df[text].to_numpy()\n",
    "\n",
    "y = None\n",
    "if target in df.columns:\n",
    "    y = df[target].to_numpy()"
   ]
  },
  {
   "cell_type": "markdown",
   "metadata": {},
   "source": [
    "## Verificando as configurações do MarianMT\n",
    "\n",
    "- Verificando disponibilidade de GPU e status de hardware\n",
    "- Instanciando modelo e tokenizador\n",
    "- Opções de tradução de idiomas\n",
    "- Modelos pré treinados disponíveis"
   ]
  },
  {
   "cell_type": "code",
   "execution_count": null,
   "metadata": {},
   "outputs": [],
   "source": [
    "from multiprocessing import cpu_count\n",
    "import torch\n",
    "\n",
    "dev = \"cuda:0\" if torch.cuda.is_available() else \"cpu\"\n",
    "device = torch.device(dev)\n",
    "\n",
    "if dev == \"cpu\":\n",
    "    print(f\"number of CPU cores: {cpu_count()}\")\n",
    "else:\n",
    "    print(f\"GPU: {torch.cuda.get_device_name(0)}, number of CPU cores: {cpu_count()}\")"
   ]
  },
  {
   "cell_type": "markdown",
   "metadata": {},
   "source": [
    "## Chamada da Classe MarianMT"
   ]
  },
  {
   "cell_type": "code",
   "execution_count": null,
   "metadata": {},
   "outputs": [],
   "source": [
    "!wget https://raw.githubusercontent.com/platiagro/tasks/main/tasks/nlp-marianmt-translator/marianmt_model.py"
   ]
  },
  {
   "cell_type": "code",
   "execution_count": null,
   "metadata": {},
   "outputs": [],
   "source": [
    "from marianmt_model import MarianMTTranslator\n",
    "\n",
    "marian_model = None\n",
    "models = []\n",
    "\n",
    "hyperparams = {'input_max_length': input_max_length, \n",
    "                'output_max_length': output_max_length,\n",
    "                'inference_batch_size': inference_batch_size,\n",
    "                'seed':seed}\n",
    "\n",
    "prefixes = {\"Alemão\": \">>de<<\",\n",
    "            \"Catalão\": \">>ca<<\",\n",
    "            \"Espanhol\": \">>es<<\",\n",
    "            \"Francês\": \">>fr<<\",\n",
    "            \"Inglês\": \">>en<<\",\n",
    "            \"Italiano\": \">>it<<\",\n",
    "            \"Latim\": \">>la<<\",\n",
    "            \"Português\": \">>pt_br<<\",\n",
    "            \"Romeno\": \">>ro<<\"}\n",
    "\n",
    "prefix = prefixes[output_language]"
   ]
  },
  {
   "cell_type": "code",
   "execution_count": null,
   "metadata": {},
   "outputs": [],
   "source": [
    "model_name_one, model_name_two = None, None\n",
    "\n",
    "if input_language == \"Inglês\" or output_language == \"Inglês\":\n",
    "    \n",
    "    if input_language == \"Alemão\":\n",
    "        model_name_one = \"Helsinki-NLP/opus-mt-de-en\"\n",
    "    elif output_language == \"Alemão\":\n",
    "        model_name_one = \"Helsinki-NLP/opus-mt-en-de\"\n",
    "    else:\n",
    "        model_name_one = \"Helsinki-NLP/opus-mt-en-ROMANCE\" if input_language == \"Inglês\" else \"Helsinki-NLP/opus-mt-ROMANCE-en\"\n",
    "\n",
    "else:\n",
    "    \n",
    "    if input_language == \"Alemão\":\n",
    "        model_name_one = \"Helsinki-NLP/opus-mt-de-en\"\n",
    "    else:\n",
    "        model_name_one = \"Helsinki-NLP/opus-mt-ROMANCE-en\"\n",
    "    \n",
    "    if output_language == \"Alemão\":\n",
    "        model_name_two = \"Helsinki-NLP/opus-mt-en-de\"\n",
    "    else:\n",
    "        model_name_two = \"Helsinki-NLP/opus-mt-en-ROMANCE\""
   ]
  },
  {
   "cell_type": "code",
   "execution_count": null,
   "metadata": {},
   "outputs": [],
   "source": [
    "if input_language == \"Inglês\" or output_language == \"Inglês\":\n",
    "    \n",
    "    model_params = {'model_name': model_name_one,\n",
    "                'prefix': prefix}\n",
    "    \n",
    "    marian_model = MarianMTTranslator(hyperparams, model_params)\n",
    "    \n",
    "    models.append(marian_model)"
   ]
  },
  {
   "cell_type": "code",
   "execution_count": null,
   "metadata": {},
   "outputs": [],
   "source": [
    "if input_language != \"Inglês\" and output_language != \"Inglês\":\n",
    "    \n",
    "    model_params = {'model_name': model_name_one,\n",
    "                'prefix': prefixes['Inglês']}\n",
    "    \n",
    "    marian_model = MarianMTTranslator(hyperparams, model_params)\n",
    "    \n",
    "    models.append(marian_model)\n",
    "    \n",
    "    X = marian_model.predict(X)\n",
    "    \n",
    "    model_params = {'model_name': model_name_two,\n",
    "                'prefix': prefix}\n",
    "    \n",
    "    marian_model = MarianMTTranslator(hyperparams, model_params)\n",
    "    \n",
    "    models.append(marian_model)"
   ]
  },
  {
   "cell_type": "code",
   "execution_count": null,
   "metadata": {},
   "outputs": [],
   "source": [
    "if y is not None:\n",
    "    aux = marian_model.get_result_dataframe(X,y)\n",
    "else:\n",
    "    aux = marian_model.predict(X)"
   ]
  },
  {
   "cell_type": "code",
   "execution_count": null,
   "metadata": {},
   "outputs": [],
   "source": [
    "aux"
   ]
  },
  {
   "cell_type": "markdown",
   "metadata": {},
   "source": [
    "## Salva métricas\n",
    "\n",
    "Utiliza a função `save_metrics` do [SDK da PlatIAgro](https://platiagro.github.io/sdk/) para salvar métricas. Por exemplo: `accuracy`, `precision`, `r2_score`, `custom_score` etc.<br>"
   ]
  },
  {
   "cell_type": "code",
   "execution_count": null,
   "metadata": {},
   "outputs": [],
   "source": [
    "from platiagro import save_metrics\n",
    "\n",
    "if y is not None:\n",
    "    save_metrics(avg_bleu=marian_model.avg_bleu)"
   ]
  },
  {
   "cell_type": "markdown",
   "metadata": {},
   "source": [
    "## Salva resultados da tarefa \n",
    "\n",
    "A plataforma guarda o conteúdo de `/tmp/data/` para as tarefas subsequentes."
   ]
  },
  {
   "cell_type": "code",
   "execution_count": null,
   "metadata": {},
   "outputs": [],
   "source": [
    "from joblib import dump\n",
    "\n",
    "artifacts = {\n",
    "    \"models\": models\n",
    "}\n",
    "\n",
    "dump(artifacts, \"/tmp/data/translate.joblib\")"
   ]
  }
 ],
 "metadata": {
  "celltoolbar": "Tags",
  "experiment_id": "ddfb6ed8-0a39-4f48-b1f6-acc1f3c70a97",
  "kernelspec": {
   "display_name": "Python 3",
   "language": "python",
   "name": "python3"
  },
  "language_info": {
   "codemirror_mode": {
    "name": "ipython",
    "version": 3
   },
   "file_extension": ".py",
   "mimetype": "text/x-python",
   "name": "python",
   "nbconvert_exporter": "python",
   "pygments_lexer": "ipython3",
   "version": "3.7.4"
  },
  "operator_id": "fed79198-d26f-4f2b-854c-c840c810d06c",
  "task_id": "e0ecc209-919e-4ce5-8be2-d81bed7aa299"
 },
 "nbformat": 4,
 "nbformat_minor": 4
}
