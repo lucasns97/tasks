{
 "cells": [
  {
   "cell_type": "markdown",
   "metadata": {},
   "source": [
    "#  Tradução de Textos - Experimento\n",
    "## Utilização do modelo [MarianMT](https://huggingface.co/transformers/model_doc/marian.html) para tradução. \n",
    "\n",
    "\n",
    "* Neste exempo a tradução é feito do inglês para o português, mas ela pode ser feita em qualquer uma das línguas suportadas pelo MarianMT. \n",
    "* Para adaptar para traduções em outras línguas é necessário verificacar se há o modelo pré treinado disponível no MarianMT e adaptar o truncamento de strings do [spacy](https://spacy.io/usage/models) para o idioma desejado\n",
    "* A métrica computada é o [sacrebleu](https://https://github.com/mjpost/sacrebleu) \n",
    "\n",
    "\n",
    "### **Em caso de dúvidas, consulte os [tutoriais da PlatIAgro](https://platiagro.github.io/tutorials/).**"
   ]
  },
  {
   "cell_type": "markdown",
   "metadata": {},
   "source": [
    "## Declaração de parâmetros e hiperparâmetros\n",
    "\n",
    "Declare parâmetros com o botão <img src=\"data:image/png;base64,iVBORw0KGgoAAAANSUhEUgAAABQAAAAUCAYAAACNiR0NAAABhWlDQ1BJQ0MgcHJvZmlsZQAAKJF9kT1Iw0AcxV9TtaIVBzuIOASpThb8QhylikWwUNoKrTqYXPohNGlIUlwcBdeCgx+LVQcXZ10dXAVB8APEydFJ0UVK/F9SaBHjwXE/3t173L0DhFqJqWbbGKBqlpGMRcVMdkUMvKID3QhiCOMSM/V4aiENz/F1Dx9f7yI8y/vcn6NHyZkM8InEs0w3LOJ14ulNS+e8TxxiRUkhPiceNeiCxI9cl11+41xwWOCZISOdnCMOEYuFFpZbmBUNlXiKOKyoGuULGZcVzluc1VKFNe7JXxjMacsprtMcRAyLiCMBETIq2EAJFiK0aqSYSNJ+1MM/4PgT5JLJtQFGjnmUoUJy/OB/8LtbMz854SYFo0D7i21/DAOBXaBete3vY9uunwD+Z+BKa/rLNWDmk/RqUwsfAb3bwMV1U5P3gMsdoP9JlwzJkfw0hXweeD+jb8oCfbdA16rbW2Mfpw9AmrpaugEODoGRAmWveby7s7W3f880+vsBocZyukMJsmwAAAAGYktHRAD/AP8A/6C9p5MAAAAJcEhZcwAADdcAAA3XAUIom3gAAAAHdElNRQfkBgsMIwnXL7c0AAACDUlEQVQ4y92UP4gTQRTGf29zJxhJZ2NxbMBKziYWlmJ/ile44Nlkd+dIYWFzItiNgoIEtFaTzF5Ac/inE/urtLWxsMqmUOwCEpt1Zmw2xxKi53XitPO9H9978+aDf/3IUQvSNG0450Yi0jXG7C/eB0cFeu9viciGiDyNoqh2KFBrHSilWstgnU7nFLBTgl+ur6/7PwK11kGe5z3n3Hul1MaiuCgKDZwALHA7z/Oe1jpYCtRaB+PxuA8kQM1aW68Kt7e3zwBp6a5b1ibj8bhfhQYVZwMRiQHrvW9nWfaqCrTWPgRWvPdvsiy7IyLXgEJE4slk8nw+T5nDgDbwE9gyxryuwpRSF5xz+0BhrT07HA4/AyRJchUYASvAbhiGaRVWLIMBYq3tAojIszkMoNRulbXtPM8HwV/sXSQi54HvQRDcO0wfhGGYArvAKjAq2wAgiqJj3vsHpbtur9f7Vi2utLx60LLW2hljEuBJOYu9OI6vAzQajRvAaeBLURSPlsBelA+VhWGYaq3dwaZvbm6+m06noYicE5ErrVbrK3AXqHvvd4bD4Ye5No7jSERGwKr3Pms2m0pr7Rb30DWbTQWYcnFvAieBT7PZbFB1V6vVfpQaU4UtDQetdTCZTC557/eA48BlY8zbRZ1SqrW2tvaxCvtt2iRJ0i9/xb4x5uJRwmNlaaaJ3AfqIvKY/+78Av++6uiSZhYMAAAAAElFTkSuQmCC\" /> na barra de ferramentas.<br>\n",
    "A variável `dataset` possui o caminho para leitura do arquivos importados na tarefa de \"Upload de dados\".<br>\n",
    "Você também pode importar arquivos com o botão <img src=\"data:image/png;base64,iVBORw0KGgoAAAANSUhEUgAAABQAAAAUCAYAAACNiR0NAAABhWlDQ1BJQ0MgcHJvZmlsZQAAKJF9kT1Iw0AcxV9TtaIVBzuIOASpThb8QhylikWwUNoKrTqYXPohNGlIUlwcBdeCgx+LVQcXZ10dXAVB8APEydFJ0UVK/F9SaBHjwXE/3t173L0DhFqJqWbbGKBqlpGMRcVMdkUMvKID3QhiCOMSM/V4aiENz/F1Dx9f7yI8y/vcn6NHyZkM8InEs0w3LOJ14ulNS+e8TxxiRUkhPiceNeiCxI9cl11+41xwWOCZISOdnCMOEYuFFpZbmBUNlXiKOKyoGuULGZcVzluc1VKFNe7JXxjMacsprtMcRAyLiCMBETIq2EAJFiK0aqSYSNJ+1MM/4PgT5JLJtQFGjnmUoUJy/OB/8LtbMz854SYFo0D7i21/DAOBXaBete3vY9uunwD+Z+BKa/rLNWDmk/RqUwsfAb3bwMV1U5P3gMsdoP9JlwzJkfw0hXweeD+jb8oCfbdA16rbW2Mfpw9AmrpaugEODoGRAmWveby7s7W3f880+vsBocZyukMJsmwAAAAGYktHRAD/AP8A/6C9p5MAAAAJcEhZcwAADdcAAA3XAUIom3gAAAAHdElNRQfkBgsOBy6ASTeXAAAC/0lEQVQ4y5WUT2gcdRTHP29m99B23Uiq6dZisgoWCxVJW0oL9dqLfyhCvGWY2YUBI95MsXgwFISirQcLhS5hfgk5CF3wJIhFI7aHNsL2VFZFik1jS1qkiZKdTTKZ3/MyDWuz0fQLc/m99/vMvDfv+4RMlUrlkKqeAAaBAWAP8DSgwJ/AXRG5rao/WWsvTU5O3qKLBMD3fSMiPluXFZEPoyj67PGAMzw83PeEMABHVT/oGpiamnoAmCcEWhH5tFsgF4bh9oWFhfeKxeJ5a+0JVT0oImWgBPQCKfAQuAvcBq67rltX1b+6ApMkKRcKhe9V9QLwbavV+qRer692Sx4ZGSnEcXw0TdP3gSrQswGYz+d/S5IkVtXTwOlCoZAGQXAfmAdagAvsAErtdnuXiDy6+023l7qNRsMODg5+CawBzwB9wFPA7mx8ns/KL2Tl3xCRz5eWlkabzebahrHxPG+v4zgnc7ncufHx8Z+Hhoa29fT0lNM03Q30ikiqqg+ttX/EcTy3WTvWgdVqtddaOw/kgXvADHBHROZVNRaRvKruUNU+EdkPfGWM+WJTYOaSt1T1LPDS/4zLWWPMaLVaPWytrYvIaBRFl/4F9H2/JCKvGmMu+76/X0QOqGoZKDmOs1NV28AicMsYc97zvFdc1/0hG6kEeNsY83UnsCwivwM3VfU7YEZE7lhr74tIK8tbnJiYWPY8b6/ruleAXR0ftQy8boyZXi85CIIICDYpc2ZgYODY3NzcHmvt1eyvP64lETkeRdE1yZyixWLx5U2c8q4x5mIQBE1g33/0d3FlZeXFR06ZttZesNZejuO4q1NE5CPgWVV9E3ij47wB1IDlJEn+ljAM86urq7+KyAtZTgqsO0VV247jnOnv7/9xbGzMViqVMVX9uANYj6LonfVtU6vVkjRNj6jqGeCXzGrPAQeA10TkuKpOz87ONrayhnIA2Qo7BZwKw3B7kiRloKSqO13Xja21C47jPNgysFO1Wi0GmtmzQap6DWgD24A1Vb3SGf8Hfstmz1CuXEIAAAAASUVORK5CYII=\" /> na barra de ferramentas."
   ]
  },
  {
   "cell_type": "code",
   "execution_count": 1,
   "metadata": {
    "tags": [
     "parameters"
    ]
   },
   "outputs": [],
   "source": [
    "# dataset = \"/tmp/data/paracrawl_en_pt_test.csv\" #@param {type:\"string\"}\n",
    "dataset = \"pt_en_testing_texts.csv\" \n",
    "text = \"text_english\" #@param {type:\"string\", label:\"Atributo do texto\", description:\"Este atributo será traduzido e apresentado o resultado.\"}\n",
    "target = \"text_portuguese\" #@param {type:\"string\", label:\"Atributo alvo\", description:\"Seu modelo será validado com os valores do alvo.\"}\n",
    "input_language = \"Português\" #@param [\"Alemão\", \"Catalão\", \"Espanhol\", \"Francês\", \"Inglês\", \"Italiano\", \"Latim\", \"Português\", \"Romeno\"] {type:\"string\", label:\"Idioma de entrada\"}\n",
    "target_language = \"Inglês\" #@param [\"Alemão\", \"Catalão\", \"Espanhol\", \"Francês\", \"Inglês\", \"Italiano\", \"Latim\", \"Português\", \"Romeno\"] {type:\"string\", label:\"Idioma de saída\"}\n",
    "\n",
    "#Hyperparams \n",
    "seed = 42 #@param {type:\"integer\",label\"Semente de aleatoriedade\"}\n",
    "max_length = 256 #@param {type:\"integer\",label\"Tamanho máximo da sentença de entrada que entrará no MarianMT. Se a sentença for maior ela será quebrada\"}\n",
    "#model_name = 'Helsinki-NLP/opus-mt-ROMANCE-en' #@param [\"Helsinki-NLP/opus-mt-ROMANCE-en\",\"Helsinki-NLP/opus-mt-en-ROMANCE\"] {type:\"integer\",label:\"Helsinki/NLP model name\"}\n",
    "inference_batch_size = 2 #@param {type:\"integer\",label\"Tamanho do Batch de inferência\"}"
   ]
  },
  {
   "cell_type": "code",
   "execution_count": 2,
   "metadata": {},
   "outputs": [],
   "source": [
    "if input_language == target_language:\n",
    "    raise Exception('Idioma de entrada e de saída não podem ser iguais')"
   ]
  },
  {
   "cell_type": "markdown",
   "metadata": {},
   "source": [
    "## Acesso ao conjunto de dados\n",
    "\n",
    "O conjunto de dados utilizado nesta etapa será o mesmo carregado através da plataforma.<br>\n",
    "O tipo da variável retornada depende do arquivo de origem:\n",
    "- [pandas.DataFrame](https://pandas.pydata.org/pandas-docs/stable/reference/api/pandas.DataFrame.html) para CSV e compressed CSV: .csv .csv.zip .csv.gz .csv.bz2 .csv.xz\n",
    "- [Binary IO stream](https://docs.python.org/3/library/io.html#binary-i-o) para outros tipos de arquivo: .jpg .wav .zip .h5 .parquet etc"
   ]
  },
  {
   "cell_type": "code",
   "execution_count": 3,
   "metadata": {},
   "outputs": [],
   "source": [
    "import pandas as pd\n",
    "\n",
    "df = pd.read_csv(dataset)"
   ]
  },
  {
   "cell_type": "markdown",
   "metadata": {},
   "source": [
    "## Formatar dados\n",
    "\n",
    "Dados nulos serão removidos e serão separados em colunas de teste e validação."
   ]
  },
  {
   "cell_type": "code",
   "execution_count": 4,
   "metadata": {},
   "outputs": [],
   "source": [
    "df = df.dropna()\n",
    "X = df[text].to_numpy()\n",
    "\n",
    "y = None\n",
    "if target in df.columns:\n",
    "    y = df[target].to_numpy()"
   ]
  },
  {
   "cell_type": "markdown",
   "metadata": {},
   "source": [
    "## Verificando as configurações do MarianMT\n",
    "\n",
    "- Verificando disponibilidade de GPU e status de hardware\n",
    "- Instanciando modelo e tokenizador\n",
    "- Opções de tradução de idiomas\n",
    "- Modelos pré treinados disponíveis"
   ]
  },
  {
   "cell_type": "code",
   "execution_count": 5,
   "metadata": {},
   "outputs": [
    {
     "name": "stdout",
     "output_type": "stream",
     "text": [
      "GPU: Tesla T4, number of CPU cores: 8\n"
     ]
    }
   ],
   "source": [
    "from multiprocessing import cpu_count\n",
    "import torch\n",
    "\n",
    "dev = \"cuda:0\" if torch.cuda.is_available() else \"cpu\"\n",
    "device = torch.device(dev)\n",
    "\n",
    "if dev == \"cpu\":\n",
    "    print(f\"number of CPU cores: {cpu_count()}\")\n",
    "else:\n",
    "    print(f\"GPU: {torch.cuda.get_device_name(0)}, number of CPU cores: {cpu_count()}\")"
   ]
  },
  {
   "cell_type": "markdown",
   "metadata": {},
   "source": [
    "## Chamada da Classe MarianMT"
   ]
  },
  {
   "cell_type": "code",
   "execution_count": 6,
   "metadata": {},
   "outputs": [],
   "source": [
    "if input_language=='Inglês' and target_language!='Inglês':\n",
    "    models_list = [\"Helsinki-NLP/opus-mt-en-ROMANCE\"]\n",
    "elif input_language!='Inglês' and target_language=='Inglês':\n",
    "    models_list = [\"Helsinki-NLP/opus-mt-ROMANCE-en\"]\n",
    "else:\n",
    "    models_list = [\"Helsinki-NLP/opus-mt-ROMANCE-en\",\"Helsinki-NLP/opus-mt-en-ROMANCE\"]    "
   ]
  },
  {
   "cell_type": "code",
   "execution_count": 7,
   "metadata": {},
   "outputs": [],
   "source": [
    "from marianmt_model import MarianMTTranslator\n",
    "\n",
    "    \n",
    "hyperparams = {'max_length': max_length, \n",
    "               'inference_batch_size': inference_batch_size,\n",
    "               'target_language':target_language,\n",
    "               'models_list':models_list,\n",
    "                'seed':seed\n",
    "              }\n",
    "\n",
    "marianmt_model = MarianMTTranslator(hyperparams)"
   ]
  },
  {
   "cell_type": "code",
   "execution_count": 8,
   "metadata": {},
   "outputs": [],
   "source": [
    "if y is not None:\n",
    "    aux = marianmt_model.get_result_dataframe(X,y)\n",
    "else:\n",
    "    aux = marianmt_model.predict(X)"
   ]
  },
  {
   "cell_type": "code",
   "execution_count": 9,
   "metadata": {},
   "outputs": [
    {
     "data": {
      "text/html": [
       "<div>\n",
       "<style scoped>\n",
       "    .dataframe tbody tr th:only-of-type {\n",
       "        vertical-align: middle;\n",
       "    }\n",
       "\n",
       "    .dataframe tbody tr th {\n",
       "        vertical-align: top;\n",
       "    }\n",
       "\n",
       "    .dataframe thead th {\n",
       "        text-align: right;\n",
       "    }\n",
       "</style>\n",
       "<table border=\"1\" class=\"dataframe\">\n",
       "  <thead>\n",
       "    <tr style=\"text-align: right;\">\n",
       "      <th></th>\n",
       "      <th>source_text</th>\n",
       "      <th>target_text</th>\n",
       "      <th>translated_text</th>\n",
       "      <th>bleu_score</th>\n",
       "    </tr>\n",
       "  </thead>\n",
       "  <tbody>\n",
       "    <tr>\n",
       "      <th>0</th>\n",
       "      <td>In this way, the civil life of a nation mature...</td>\n",
       "      <td>Deste modo, a vida civil de uma nação amadurec...</td>\n",
       "      <td>In this way, the civil life of a mature nation...</td>\n",
       "      <td>1.924085</td>\n",
       "    </tr>\n",
       "    <tr>\n",
       "      <th>1</th>\n",
       "      <td>1999 XIII. Winnipeg, Canada July 23 to August 8</td>\n",
       "      <td>1999 XIII. Winnipeg, Canadá 23 de julho a 8 de...</td>\n",
       "      <td>1999 XIII.Winnipeg, Canada July 23 to August 8</td>\n",
       "      <td>31.818770</td>\n",
       "    </tr>\n",
       "    <tr>\n",
       "      <th>2</th>\n",
       "      <td>In the mystery of Christmas, Christ's light sh...</td>\n",
       "      <td>No mistério do Natal, a luz de Cristo irradia-...</td>\n",
       "      <td>In the mystery of Christmas, Christ's light sh...</td>\n",
       "      <td>2.167132</td>\n",
       "    </tr>\n",
       "    <tr>\n",
       "      <th>3</th>\n",
       "      <td>making it viable to drill two new boreholes in...</td>\n",
       "      <td>e tem o objetivo de viabilizar a perfuração de...</td>\n",
       "      <td>making it viable to drill two new boreholes in...</td>\n",
       "      <td>2.151593</td>\n",
       "    </tr>\n",
       "  </tbody>\n",
       "</table>\n",
       "</div>"
      ],
      "text/plain": [
       "                                         source_text  \\\n",
       "0  In this way, the civil life of a nation mature...   \n",
       "1    1999 XIII. Winnipeg, Canada July 23 to August 8   \n",
       "2  In the mystery of Christmas, Christ's light sh...   \n",
       "3  making it viable to drill two new boreholes in...   \n",
       "\n",
       "                                         target_text  \\\n",
       "0  Deste modo, a vida civil de uma nação amadurec...   \n",
       "1  1999 XIII. Winnipeg, Canadá 23 de julho a 8 de...   \n",
       "2  No mistério do Natal, a luz de Cristo irradia-...   \n",
       "3  e tem o objetivo de viabilizar a perfuração de...   \n",
       "\n",
       "                                     translated_text  bleu_score  \n",
       "0  In this way, the civil life of a mature nation...    1.924085  \n",
       "1     1999 XIII.Winnipeg, Canada July 23 to August 8   31.818770  \n",
       "2  In the mystery of Christmas, Christ's light sh...    2.167132  \n",
       "3  making it viable to drill two new boreholes in...    2.151593  "
      ]
     },
     "execution_count": 9,
     "metadata": {},
     "output_type": "execute_result"
    }
   ],
   "source": [
    "aux"
   ]
  },
  {
   "cell_type": "markdown",
   "metadata": {},
   "source": [
    "## Salva métricas\n",
    "\n",
    "Utiliza a função `save_metrics` do [SDK da PlatIAgro](https://platiagro.github.io/sdk/) para salvar métricas. Por exemplo: `accuracy`, `precision`, `r2_score`, `custom_score` etc.<br>"
   ]
  },
  {
   "cell_type": "code",
   "execution_count": 11,
   "metadata": {},
   "outputs": [],
   "source": [
    "from platiagro import save_metrics\n",
    "\n",
    "if y is not None:\n",
    "    save_metrics(avg_bleu=marianmt_model.avg_bleu)"
   ]
  },
  {
   "cell_type": "markdown",
   "metadata": {},
   "source": [
    "## Salva resultados da tarefa \n",
    "\n",
    "A plataforma guarda o conteúdo de `/tmp/data/` para as tarefas subsequentes."
   ]
  },
  {
   "cell_type": "code",
   "execution_count": null,
   "metadata": {},
   "outputs": [],
   "source": [
    "from joblib import dump\n",
    "\n",
    "artifacts = {\n",
    "    \"model\": marianmt_model\n",
    "}\n",
    "\n",
    "dump(artifacts, \"/tmp/data/translate.joblib\")"
   ]
  }
 ],
 "metadata": {
  "celltoolbar": "Tags",
  "experiment_id": "ddfb6ed8-0a39-4f48-b1f6-acc1f3c70a97",
  "kernelspec": {
   "display_name": "Python 3",
   "language": "python",
   "name": "python3"
  },
  "language_info": {
   "codemirror_mode": {
    "name": "ipython",
    "version": 3
   },
   "file_extension": ".py",
   "mimetype": "text/x-python",
   "name": "python",
   "nbconvert_exporter": "python",
   "pygments_lexer": "ipython3",
   "version": "3.7.10"
  },
  "operator_id": "fed79198-d26f-4f2b-854c-c840c810d06c",
  "task_id": "e0ecc209-919e-4ce5-8be2-d81bed7aa299"
 },
 "nbformat": 4,
 "nbformat_minor": 4
}
