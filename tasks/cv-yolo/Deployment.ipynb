{
 "cells": [
  {
   "cell_type": "markdown",
   "metadata": {},
   "source": [
    "# You Only Look Once (YOLO)\n",
    "\n",
    "Este componente utiliza o modelo YOLO para classificação usando [Yolov4](https://pypi.org/project/yolov4/). <br>\n",
    "Está é uma biblioteca que encapsula o modelo yolov4 com algumas variações, podendo utilizar o modelo completo, como também,a versão reduzida.\n",
    "\n",
    "Este notebook apresenta:\n",
    "- como usar o [SDK](https://platiagro.github.io/sdk/) para carregar datasets, salvar modelos e outros artefatos.\n",
    "- como declarar parâmetros e usá-los para criar componentes reutilizáveis."
   ]
  },
  {
   "cell_type": "code",
   "execution_count": null,
   "metadata": {},
   "outputs": [],
   "source": [
    "# Download classes\n",
    "!wget https://raw.githubusercontent.com/platiagro/tasks/main/tasks/cv-yolo/coco.names\n",
    "\n",
    "# Download weights\n",
    "import gdown\n",
    "gdown.download('https://drive.google.com/uc?id=1L-SO373Udc9tPz5yLkgti5IAXFboVhUt', 'yolov4.weights', quiet=False)"
   ]
  },
  {
   "cell_type": "code",
   "execution_count": null,
   "metadata": {},
   "outputs": [],
   "source": [
    "%%writefile Model.py\n",
    "from typing import List, Iterable, Dict, Union\n",
    "\n",
    "import base64\n",
    "import numpy as np\n",
    "import pandas as pd\n",
    "import cv2\n",
    "import tensorflow as tf\n",
    "from yolov4.tf import YOLOv4\n",
    "\n",
    "\n",
    "class Model:\n",
    "    \n",
    "    def __init__(self):\n",
    "        # Carrega artefatos: estimador, etc\n",
    "        artifacts = joblib.load(\"/tmp/data/yolo.joblib\")\n",
    "        self.names = artifacts[\"names\"]\n",
    "        \n",
    "    \n",
    "    def class_names(self):\n",
    "        \n",
    "        return ['class', 'probability', 'bboxcoord1', 'bboxcoord2', 'bboxcoord3', 'bboxcoord4']\n",
    "    \n",
    "    \n",
    "    def predict(self, X: np.ndarray, feature_names: Iterable[str], meta: Dict = None) -> Union[np.ndarray, List, str, bytes]:\n",
    "\n",
    "        yolo = YOLOv4()\n",
    "        yolo.classes = \"coco.names\"\n",
    "        yolo.make_model()\n",
    "        yolo.load_weights(\"yolov4.weights\", weights_type=\"yolo\")\n",
    "        \n",
    "        im_bytes = base64.b64decode(X[0,0])\n",
    "        im_arr = np.frombuffer(im_bytes, dtype=np.uint8)\n",
    "        frame = cv2.imdecode(im_arr, flags=cv2.IMREAD_COLOR)\n",
    "        \n",
    "        bboxes = yolo.predict(frame)\n",
    "        \n",
    "        result = []\n",
    "        for box in bboxes:\n",
    "            result.append(self.names[int(box[4])], box[5], box[0:4])\n",
    "        \n",
    "        return np.array(result)"
   ]
  }
 ],
 "metadata": {
  "experiment_id": "ae357900-8ee2-42ef-a24f-06dcea58dd48",
  "kernelspec": {
   "display_name": "Python 3",
   "language": "python",
   "name": "python3"
  },
  "language_info": {
   "codemirror_mode": {
    "name": "ipython",
    "version": 3
   },
   "file_extension": ".py",
   "mimetype": "text/x-python",
   "name": "python",
   "nbconvert_exporter": "python",
   "pygments_lexer": "ipython3",
   "version": "3.7.4"
  },
  "operator_id": "eb108915-9f4d-4a12-8750-6cbe4ec3ebde"
 },
 "nbformat": 4,
 "nbformat_minor": 4
}