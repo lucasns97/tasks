{
 "cells": [
  {
   "cell_type": "markdown",
   "metadata": {},
   "source": [
    "# Pré seleção - Implantação\n",
    "\n",
    "Remove atributos de acordo com os seguintes critérios: \n",
    "- Variabilidade próximo de 0\n",
    "- Alta correlação entre si\n",
    "- Lida com NaN e valores faltantes\n",
    "\n",
    "Este notebook apresenta:\n",
    "- como carregar modelos e outros resultados do treinamento.\n",
    "- como utilizar um modelo para fornecer predições em tempo real."
   ]
  },
  {
   "cell_type": "markdown",
   "metadata": {},
   "source": [
    "## Chamada do Transformer Personalizado"
   ]
  },
  {
   "cell_type": "markdown",
   "metadata": {},
   "source": [
    "## Declaração de Classe para Predições em Tempo Real\n",
    "\n",
    "A tarefa de implantação cria um serviço REST para predições em tempo real.<br>\n",
    "Para isso você deve criar uma classe `Model` que implementa o método `predict`."
   ]
  },
  {
   "cell_type": "code",
   "execution_count": null,
   "metadata": {},
   "outputs": [],
   "source": [
    "%%writefile Model.py\n",
    "import joblib\n",
    "import numpy as np\n",
    "import pandas as pd\n",
    "\n",
    "\n",
    "class Model(object):\n",
    "    def __init__(self):\n",
    "        # Carrega artefatos: estimador, etc\n",
    "        artifacts = joblib.load(\"/tmp/data/pre-selection.joblib\")\n",
    "        self.pipeline = artifacts[\"pipeline\"]\n",
    "        self.features_names_training = artifacts[\"columns\"]\n",
    "        self.features_after_pipeline = artifacts[\"features_after_pipeline\"]\n",
    "\n",
    "    def class_names(self):\n",
    "        return self.features_after_pipeline.tolist()\n",
    "\n",
    "    def predict(self, X, feature_names, meta=None):\n",
    "        \n",
    "        df = pd.DataFrame(X)\n",
    "        \n",
    "        # Antes de utilizar o conjunto de dados X no modelo, reordena suas features de acordo com a ordem utilizada no treinamento\n",
    "        if feature_names:\n",
    "            df = pd.DataFrame(X, columns=feature_names)\n",
    "            X = df[self.features_names_training].to_numpy()\n",
    "\n",
    "        # Realiza transformação\n",
    "        X = self.pipeline.transform(X)\n",
    "\n",
    "        return X"
   ]
  }
 ],
 "metadata": {
  "celltoolbar": "Tags",
  "kernelspec": {
   "display_name": "Python 3",
   "language": "python",
   "name": "python3"
  },
  "language_info": {
   "codemirror_mode": {
    "name": "ipython",
    "version": 3
   },
   "file_extension": ".py",
   "mimetype": "text/x-python",
   "name": "python",
   "nbconvert_exporter": "python",
   "pygments_lexer": "ipython3",
   "version": "3.7.4"
  }
 },
 "nbformat": 4,
 "nbformat_minor": 4
}