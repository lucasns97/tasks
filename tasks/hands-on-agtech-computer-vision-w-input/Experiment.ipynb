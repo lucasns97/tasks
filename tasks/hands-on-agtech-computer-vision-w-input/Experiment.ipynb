{
 "cells": [
  {
   "cell_type": "markdown",
   "metadata": {},
   "source": [
    "# (w/input) Hands-on AgTech - Visão Computacional\n",
    "\n",
    "Reconhecimento de objetos com dataset CIFAR-10 e visão computacional, agora recebendo e tratando arquivos de dados vindos do usuário."
   ]
  },
  {
   "cell_type": "markdown",
   "metadata": {},
   "source": [
    "## Declaração de parâmetros e hiperparâmetros\n",
    "\n",
    "Declare parâmetros com o botão <img src=\"data:image/png;base64,iVBORw0KGgoAAAANSUhEUgAAABQAAAAUCAYAAACNiR0NAAABhWlDQ1BJQ0MgcHJvZmlsZQAAKJF9kT1Iw0AcxV9TtaIVBzuIOASpThb8QhylikWwUNoKrTqYXPohNGlIUlwcBdeCgx+LVQcXZ10dXAVB8APEydFJ0UVK/F9SaBHjwXE/3t173L0DhFqJqWbbGKBqlpGMRcVMdkUMvKID3QhiCOMSM/V4aiENz/F1Dx9f7yI8y/vcn6NHyZkM8InEs0w3LOJ14ulNS+e8TxxiRUkhPiceNeiCxI9cl11+41xwWOCZISOdnCMOEYuFFpZbmBUNlXiKOKyoGuULGZcVzluc1VKFNe7JXxjMacsprtMcRAyLiCMBETIq2EAJFiK0aqSYSNJ+1MM/4PgT5JLJtQFGjnmUoUJy/OB/8LtbMz854SYFo0D7i21/DAOBXaBete3vY9uunwD+Z+BKa/rLNWDmk/RqUwsfAb3bwMV1U5P3gMsdoP9JlwzJkfw0hXweeD+jb8oCfbdA16rbW2Mfpw9AmrpaugEODoGRAmWveby7s7W3f880+vsBocZyukMJsmwAAAAGYktHRAD/AP8A/6C9p5MAAAAJcEhZcwAADdcAAA3XAUIom3gAAAAHdElNRQfkBgsMIwnXL7c0AAACDUlEQVQ4y92UP4gTQRTGf29zJxhJZ2NxbMBKziYWlmJ/ile44Nlkd+dIYWFzItiNgoIEtFaTzF5Ac/inE/urtLWxsMqmUOwCEpt1Zmw2xxKi53XitPO9H9978+aDf/3IUQvSNG0450Yi0jXG7C/eB0cFeu9viciGiDyNoqh2KFBrHSilWstgnU7nFLBTgl+ur6/7PwK11kGe5z3n3Hul1MaiuCgKDZwALHA7z/Oe1jpYCtRaB+PxuA8kQM1aW68Kt7e3zwBp6a5b1ibj8bhfhQYVZwMRiQHrvW9nWfaqCrTWPgRWvPdvsiy7IyLXgEJE4slk8nw+T5nDgDbwE9gyxryuwpRSF5xz+0BhrT07HA4/AyRJchUYASvAbhiGaRVWLIMBYq3tAojIszkMoNRulbXtPM8HwV/sXSQi54HvQRDcO0wfhGGYArvAKjAq2wAgiqJj3vsHpbtur9f7Vi2utLx60LLW2hljEuBJOYu9OI6vAzQajRvAaeBLURSPlsBelA+VhWGYaq3dwaZvbm6+m06noYicE5ErrVbrK3AXqHvvd4bD4Ye5No7jSERGwKr3Pms2m0pr7Rb30DWbTQWYcnFvAieBT7PZbFB1V6vVfpQaU4UtDQetdTCZTC557/eA48BlY8zbRZ1SqrW2tvaxCvtt2iRJ0i9/xb4x5uJRwmNlaaaJ3AfqIvKY/+78Av++6uiSZhYMAAAAAElFTkSuQmCC\" /> na barra de ferramentas.<br>\n",
    "A variável `dataset` possui o caminho para leitura do arquivos importados na tarefa de \"Upload de dados\".<br>\n",
    "Você também pode importar arquivos com o botão <img src=\"data:image/png;base64,iVBORw0KGgoAAAANSUhEUgAAABQAAAAUCAYAAACNiR0NAAABhWlDQ1BJQ0MgcHJvZmlsZQAAKJF9kT1Iw0AcxV9TtaIVBzuIOASpThb8QhylikWwUNoKrTqYXPohNGlIUlwcBdeCgx+LVQcXZ10dXAVB8APEydFJ0UVK/F9SaBHjwXE/3t173L0DhFqJqWbbGKBqlpGMRcVMdkUMvKID3QhiCOMSM/V4aiENz/F1Dx9f7yI8y/vcn6NHyZkM8InEs0w3LOJ14ulNS+e8TxxiRUkhPiceNeiCxI9cl11+41xwWOCZISOdnCMOEYuFFpZbmBUNlXiKOKyoGuULGZcVzluc1VKFNe7JXxjMacsprtMcRAyLiCMBETIq2EAJFiK0aqSYSNJ+1MM/4PgT5JLJtQFGjnmUoUJy/OB/8LtbMz854SYFo0D7i21/DAOBXaBete3vY9uunwD+Z+BKa/rLNWDmk/RqUwsfAb3bwMV1U5P3gMsdoP9JlwzJkfw0hXweeD+jb8oCfbdA16rbW2Mfpw9AmrpaugEODoGRAmWveby7s7W3f880+vsBocZyukMJsmwAAAAGYktHRAD/AP8A/6C9p5MAAAAJcEhZcwAADdcAAA3XAUIom3gAAAAHdElNRQfkBgsOBy6ASTeXAAAC/0lEQVQ4y5WUT2gcdRTHP29m99B23Uiq6dZisgoWCxVJW0oL9dqLfyhCvGWY2YUBI95MsXgwFISirQcLhS5hfgk5CF3wJIhFI7aHNsL2VFZFik1jS1qkiZKdTTKZ3/MyDWuz0fQLc/m99/vMvDfv+4RMlUrlkKqeAAaBAWAP8DSgwJ/AXRG5rao/WWsvTU5O3qKLBMD3fSMiPluXFZEPoyj67PGAMzw83PeEMABHVT/oGpiamnoAmCcEWhH5tFsgF4bh9oWFhfeKxeJ5a+0JVT0oImWgBPQCKfAQuAvcBq67rltX1b+6ApMkKRcKhe9V9QLwbavV+qRer692Sx4ZGSnEcXw0TdP3gSrQswGYz+d/S5IkVtXTwOlCoZAGQXAfmAdagAvsAErtdnuXiDy6+023l7qNRsMODg5+CawBzwB9wFPA7mx8ns/KL2Tl3xCRz5eWlkabzebahrHxPG+v4zgnc7ncufHx8Z+Hhoa29fT0lNM03Q30ikiqqg+ttX/EcTy3WTvWgdVqtddaOw/kgXvADHBHROZVNRaRvKruUNU+EdkPfGWM+WJTYOaSt1T1LPDS/4zLWWPMaLVaPWytrYvIaBRFl/4F9H2/JCKvGmMu+76/X0QOqGoZKDmOs1NV28AicMsYc97zvFdc1/0hG6kEeNsY83UnsCwivwM3VfU7YEZE7lhr74tIK8tbnJiYWPY8b6/ruleAXR0ftQy8boyZXi85CIIICDYpc2ZgYODY3NzcHmvt1eyvP64lETkeRdE1yZyixWLx5U2c8q4x5mIQBE1g33/0d3FlZeXFR06ZttZesNZejuO4q1NE5CPgWVV9E3ij47wB1IDlJEn+ljAM86urq7+KyAtZTgqsO0VV247jnOnv7/9xbGzMViqVMVX9uANYj6LonfVtU6vVkjRNj6jqGeCXzGrPAQeA10TkuKpOz87ONrayhnIA2Qo7BZwKw3B7kiRloKSqO13Xja21C47jPNgysFO1Wi0GmtmzQap6DWgD24A1Vb3SGf8Hfstmz1CuXEIAAAAASUVORK5CYII=\" /> na barra de ferramentas."
   ]
  },
  {
   "cell_type": "code",
   "execution_count": 7,
   "metadata": {
    "tags": [
     "parameters"
    ]
   },
   "outputs": [],
   "source": [
    "dataset = \"/tmp/data/CIFAR10_subset-2.zip\" #@param {type:\"string\"}\n",
    "\n",
    "batch_size = 2 #@param {type:\"integer\", description:\"Tamanho de batch utilizado em cada passo do treinamento do modelo\"}\n",
    "num_classes = 10 #@param {type:\"integer\", description:\"Número de classes na base da dados\"}\n",
    "num_epochs = 15 #@param {type:\"integer\", description:\"Número de épocas para treinar modelo\"}"
   ]
  },
  {
   "cell_type": "code",
   "execution_count": 5,
   "metadata": {},
   "outputs": [
    {
     "name": "stdout",
     "output_type": "stream",
     "text": [
      "Num GPUs Available:  1\n"
     ]
    }
   ],
   "source": [
    "import time\n",
    "import numpy as np\n",
    "import os\n",
    "import cv2\n",
    "import zipfile\n",
    "import seaborn as sns\n",
    "import matplotlib.pyplot as plt\n",
    "\n",
    "import tensorflow as tf\n",
    "from sklearn.metrics import confusion_matrix, classification_report\n",
    "from tensorflow.keras.utils import to_categorical\n",
    "\n",
    "plt.rcParams[\"figure.figsize\"] = (15,10)\n",
    "\n",
    "print(\"Num GPUs Available: \", len(tf.config.experimental.list_physical_devices('GPU')))\n",
    "physical_devices = tf.config.list_physical_devices('GPU')\n",
    "tf.config.experimental.set_memory_growth(physical_devices[0], True)"
   ]
  },
  {
   "cell_type": "markdown",
   "metadata": {},
   "source": [
    "## Leitura do conjunto de dados\n",
    "\n",
    "Nessa tarefa simples de classificação de imagens iremos utilizar a base de dados CIFAR-10.\n",
    "\n",
    "Essa base possui 10 classes e cada amostra é uma imagens de dimensão (32, 32, 3)"
   ]
  },
  {
   "cell_type": "markdown",
   "metadata": {},
   "source": [
    "Como o dataset está compactado, precisamos descompactar tudo para poder ler as imagens e enviá-las como entrada para o modelo:"
   ]
  },
  {
   "cell_type": "code",
   "execution_count": 8,
   "metadata": {},
   "outputs": [],
   "source": [
    "root_folder_name = dataset.split(\"/\")[-1].split(\".\")[0]\n",
    "print\n",
    "root_folder = os.path.join(\"/tmp/data\", root_folder_name)\n",
    "with zipfile.ZipFile(dataset, 'r') as zip_ref:\n",
    "    zip_ref.extractall(root_folder)"
   ]
  },
  {
   "cell_type": "markdown",
   "metadata": {},
   "source": [
    "Em geral, não é possível carregar todo o conjunto da dados quando nosso dataset é composto por imagens.\n",
    "Isso ocorre porque esses dados são mais pesados e o todos eles não cabem ao mesmo tempo na memória da maioria das máquinas.\n",
    "Dessa forma, precisamos de uma forma de carregar, em tempo de treinamento dos modelos, o batch de imagens que necessitamos\n",
    "naquele momento. "
   ]
  },
  {
   "cell_type": "code",
   "execution_count": 21,
   "metadata": {},
   "outputs": [
    {
     "name": "stdout",
     "output_type": "stream",
     "text": [
      "Found 300 files belonging to 10 classes.\n",
      "Found 300 files belonging to 10 classes.\n",
      "Found 149 files belonging to 10 classes.\n",
      "['airplane', 'automobile', 'bird', 'cat', 'deer', 'dog', 'frog', 'horse', 'ship', 'truck']\n"
     ]
    }
   ],
   "source": [
    "train_data = tf.keras.preprocessing.image_dataset_from_directory(\n",
    "    os.path.join(root_folder, 'train'),\n",
    "    labels='inferred', label_mode='categorical',\n",
    "    image_size=(32, 32),\n",
    "    batch_size=batch_size)\n",
    "\n",
    "val_data = tf.keras.preprocessing.image_dataset_from_directory(\n",
    "    os.path.join(root_folder, 'val'),\n",
    "    image_size=(32, 32),\n",
    "    labels='inferred', label_mode='categorical',\n",
    "    batch_size=batch_size)\n",
    "\n",
    "test_data = tf.keras.preprocessing.image_dataset_from_directory(\n",
    "    os.path.join(root_folder, 'test'),\n",
    "    image_size=(32, 32),\n",
    "    labels='inferred', label_mode='categorical',\n",
    "    batch_size=batch_size)\n",
    "\n",
    "print(train_data.class_names)"
   ]
  },
  {
   "cell_type": "markdown",
   "metadata": {},
   "source": [
    "## Funções de callback \n",
    "Callbacks são funções chamadas durante o processo de treinamento \n",
    "que realizam ações de forma automática de acordo com a forma\n",
    "como as inicializamos.\n",
    "\n",
    "Nessa tarefa utilizaremos:\n",
    "- ModelCheckpoint: salva os pesos do melhor modelo obtido durante o processo de treinamento\n"
   ]
  },
  {
   "cell_type": "code",
   "execution_count": 10,
   "metadata": {},
   "outputs": [],
   "source": [
    "checkpoint_filepath = os.path.join('/tmp/data/', 'epoch-{epoch:02d}-val_loss-{val_loss:.2f}.h5') \n",
    "checkpoint_callback = tf.keras.callbacks.ModelCheckpoint(filepath=checkpoint_filepath, \n",
    "                                                         monitor='val_loss', \n",
    "                                                         save_weights_only=False,\n",
    "                                                         save_best_only=True,\n",
    "                                                         mode='min')\n",
    "callbacks = [checkpoint_callback]"
   ]
  },
  {
   "cell_type": "code",
   "execution_count": 11,
   "metadata": {},
   "outputs": [],
   "source": [
    "def load_label_names():\n",
    "    return ['airplane', 'automobile', 'bird', 'cat', 'deer', 'dog', 'frog', 'horse', 'ship', 'truck']\n",
    "\n",
    "def plot_hist(hist):\n",
    "    plt.plot(hist.history[\"accuracy\"])\n",
    "    plt.plot(hist.history[\"val_accuracy\"])\n",
    "    plt.title(\"model accuracy\")\n",
    "    plt.ylabel(\"accuracy\")\n",
    "    plt.xlabel(\"epoch\")\n",
    "    plt.legend([\"train\", \"validation\"], loc=\"upper left\")\n",
    "    plt.show()"
   ]
  },
  {
   "cell_type": "markdown",
   "metadata": {},
   "source": [
    "## Construção do modelo de classificação\n",
    "\n",
    "Nessa etapa iremos utilizar o modelo pré-treinado na base de dados ImageNet.\n",
    "Para isso, precisamos carregar o modelo da nossa rede (VGG19), alterando\n",
    "as camadas finais da rede para o nosso formato de saída (10 classes)."
   ]
  },
  {
   "cell_type": "code",
   "execution_count": 61,
   "metadata": {},
   "outputs": [],
   "source": [
    "from tensorflow.keras import layers, Sequential\n",
    "from tensorflow.keras.applications import VGG19\n",
    "\n",
    "def build_model(num_classes):\n",
    "    \"\"\"Contrutor do modelo\"\"\"\n",
    "    \n",
    "    # Base da VGG19. Usaremos os pesos pré-treinados na imagenet.\n",
    "    base_model = VGG19(include_top = False,\n",
    "                       weights = 'imagenet',\n",
    "                       input_shape = (32, 32, 3),\n",
    "                       classes = 10)\n",
    "\n",
    "    model = Sequential()\n",
    "    model.add(base_model)\n",
    "    # Como o output da última camada do base_model é uma matrix,\n",
    "    # precisamos utilizar a função Flatten para transformá-la em um vetor de forma Nx1 \n",
    "    # para a entrada das camadas Dense (fully connected)\n",
    "    model.add(layers.Flatten())\n",
    "    # Dense layers\n",
    "    model.add(layers.Dense(1024, activation=('relu'),input_dim=512)) \n",
    "    model.add(layers.Dense(512, activation=('relu'))) \n",
    "    model.add(layers.Dense(256, activation=('relu'))) \n",
    "    model.add(layers.Dense(128, activation=('relu')))\n",
    "    # Camada de classificação\n",
    "    model.add(layers.Dense(num_classes, activation=('softmax')))\n",
    "    # Otimizador de descida do gradiante utilizando momentum\n",
    "    optimizer = tf.keras.optimizers.SGD(lr = .001, momentum = .9, nesterov = False)\n",
    "    model.compile(\n",
    "        optimizer=optimizer, loss=\"categorical_crossentropy\", metrics=[\"accuracy\"]\n",
    "    )\n",
    "    print(model.summary())\n",
    "    \n",
    "    return model"
   ]
  },
  {
   "cell_type": "markdown",
   "metadata": {},
   "source": [
    "## Treinamento do modelo "
   ]
  },
  {
   "cell_type": "code",
   "execution_count": 22,
   "metadata": {},
   "outputs": [
    {
     "name": "stdout",
     "output_type": "stream",
     "text": [
      "Model: \"sequential_2\"\n",
      "_________________________________________________________________\n",
      "Layer (type)                 Output Shape              Param #   \n",
      "=================================================================\n",
      "vgg19 (Functional)           (None, 1, 1, 512)         20024384  \n",
      "_________________________________________________________________\n",
      "flatten_2 (Flatten)          (None, 512)               0         \n",
      "_________________________________________________________________\n",
      "dense_10 (Dense)             (None, 1024)              525312    \n",
      "_________________________________________________________________\n",
      "dense_11 (Dense)             (None, 512)               524800    \n",
      "_________________________________________________________________\n",
      "dense_12 (Dense)             (None, 256)               131328    \n",
      "_________________________________________________________________\n",
      "dense_13 (Dense)             (None, 128)               32896     \n",
      "_________________________________________________________________\n",
      "dense_14 (Dense)             (None, 10)                1290      \n",
      "=================================================================\n",
      "Total params: 21,240,010\n",
      "Trainable params: 21,240,010\n",
      "Non-trainable params: 0\n",
      "_________________________________________________________________\n",
      "None\n",
      "Epoch 1/15\n",
      "150/150 [==============================] - 52s 28ms/step - loss: 5.6780 - accuracy: 0.1164 - val_loss: 2.3022 - val_accuracy: 0.1000\n",
      "Epoch 2/15\n",
      "150/150 [==============================] - 4s 27ms/step - loss: 2.3080 - accuracy: 0.1027 - val_loss: 2.2975 - val_accuracy: 0.1400\n",
      "Epoch 3/15\n",
      "150/150 [==============================] - 4s 26ms/step - loss: 2.2924 - accuracy: 0.0990 - val_loss: 2.2827 - val_accuracy: 0.1200\n",
      "Epoch 4/15\n",
      "150/150 [==============================] - 4s 25ms/step - loss: 2.2830 - accuracy: 0.1220 - val_loss: 2.2613 - val_accuracy: 0.1600\n",
      "Epoch 5/15\n",
      "150/150 [==============================] - 4s 26ms/step - loss: 2.2618 - accuracy: 0.1328 - val_loss: 2.2280 - val_accuracy: 0.1633\n",
      "Epoch 6/15\n",
      "150/150 [==============================] - 4s 26ms/step - loss: 2.2371 - accuracy: 0.1308 - val_loss: 2.3040 - val_accuracy: 0.1000\n",
      "Epoch 7/15\n",
      "150/150 [==============================] - 4s 26ms/step - loss: 2.2440 - accuracy: 0.1177 - val_loss: 2.3071 - val_accuracy: 0.1000\n",
      "Epoch 8/15\n",
      "150/150 [==============================] - 4s 25ms/step - loss: 2.3150 - accuracy: 0.0542 - val_loss: 2.3056 - val_accuracy: 0.1000\n",
      "Epoch 9/15\n",
      "150/150 [==============================] - 4s 25ms/step - loss: 2.3098 - accuracy: 0.0568 - val_loss: 2.3046 - val_accuracy: 0.1000\n",
      "Epoch 10/15\n",
      "150/150 [==============================] - 4s 26ms/step - loss: 2.3091 - accuracy: 0.0577 - val_loss: 2.3039 - val_accuracy: 0.1000\n",
      "Epoch 11/15\n",
      "150/150 [==============================] - 4s 26ms/step - loss: 2.3074 - accuracy: 0.0523 - val_loss: 2.3035 - val_accuracy: 0.1000\n",
      "Epoch 12/15\n",
      "150/150 [==============================] - 4s 26ms/step - loss: 2.3065 - accuracy: 0.0420 - val_loss: 2.3033 - val_accuracy: 0.1000\n",
      "Epoch 13/15\n",
      "150/150 [==============================] - 4s 26ms/step - loss: 2.3074 - accuracy: 0.0340 - val_loss: 2.3030 - val_accuracy: 0.1000\n",
      "Epoch 14/15\n",
      "150/150 [==============================] - 4s 26ms/step - loss: 2.3070 - accuracy: 0.0399 - val_loss: 2.3029 - val_accuracy: 0.1000\n",
      "Epoch 15/15\n",
      "150/150 [==============================] - 4s 26ms/step - loss: 2.3062 - accuracy: 0.0419 - val_loss: 2.3028 - val_accuracy: 0.1000\n",
      "Training time: 1.811 min\n"
     ]
    },
    {
     "data": {
      "image/png": "[encoded data removed]",
      "text/plain": [
       "<Figure size 1080x720 with 1 Axes>"
      ]
     },
     "metadata": {
      "needs_background": "light"
     },
     "output_type": "display_data"
    }
   ],
   "source": [
    "start = time.time()\n",
    "model = build_model(num_classes)\n",
    "history = model.fit(train_data, validation_data=val_data,\n",
    "                    epochs = num_epochs, callbacks = callbacks)\n",
    "time_elapsed = time.time() - start\n",
    "print(\"Training time: {:.03f} min\".format(time_elapsed/60))\n",
    "plot_hist(history)"
   ]
  },
  {
   "cell_type": "markdown",
   "metadata": {},
   "source": [
    "## Testando modelo\n",
    "\n",
    "Agora podemos testar nosso modelo utilizando o conjunto de teste composto por amostras nunca antes vistas pelo modelo até então"
   ]
  },
  {
   "cell_type": "code",
   "execution_count": 23,
   "metadata": {},
   "outputs": [
    {
     "name": "stdout",
     "output_type": "stream",
     "text": [
      "75/75 [==============================] - 21s 283ms/step\n"
     ]
    }
   ],
   "source": [
    "predictions = model.predict(test_data, verbose = True)"
   ]
  },
  {
   "cell_type": "code",
   "execution_count": 57,
   "metadata": {},
   "outputs": [],
   "source": [
    "y_true = []\n",
    "for x,y in test_data:\n",
    "    y_true.append(np.argmax(y[0]))\n",
    "    if y.shape == (2,10):\n",
    "        y_true.append(np.argmax(y[1]))\n",
    "y_true=np.asarray(y_true)"
   ]
  },
  {
   "cell_type": "code",
   "execution_count": 58,
   "metadata": {},
   "outputs": [
    {
     "name": "stdout",
     "output_type": "stream",
     "text": [
      "(149,)\n",
      "(149,)\n"
     ]
    }
   ],
   "source": [
    "y_pred = np.argmax(predictions, axis=1)\n",
    "confusion_mtx=confusion_matrix(y_true, y_pred)"
   ]
  },
  {
   "cell_type": "code",
   "execution_count": 59,
   "metadata": {},
   "outputs": [
    {
     "name": "stderr",
     "output_type": "stream",
     "text": [
      "/opt/conda/lib/python3.7/site-packages/ipykernel_launcher.py:5: RuntimeWarning: invalid value encountered in true_divide\n",
      "  \"\"\"\n"
     ]
    },
    {
     "data": {
      "image/png": "[encoded data removed]",
      "text/plain": [
       "<Figure size 1080x720 with 2 Axes>"
      ]
     },
     "metadata": {
      "needs_background": "light"
     },
     "output_type": "display_data"
    }
   ],
   "source": [
    "ticklabels = load_label_names()\n",
    "\n",
    "ax = plt.axes()\n",
    "\n",
    "sns.heatmap((confusion_mtx/sum(confusion_mtx)), annot=True,\n",
    "            xticklabels=ticklabels, yticklabels=ticklabels,\n",
    "            fmt='.02%', cmap=sns.light_palette(\"seagreen\", as_cmap=True),\n",
    "            linewidths=0.2, ax = ax)\n",
    "\n",
    "ax.set_title('Matrix de Confusão')\n",
    "plt.xlabel('Classe Predita', fontsize = 15)\n",
    "plt.ylabel('Classe Real', fontsize = 15)\n",
    "\n",
    "plt.show()"
   ]
  },
  {
   "cell_type": "markdown",
   "metadata": {},
   "source": [
    "## Salva resultados da tarefa\n",
    "\n",
    "A plataforma guarda o conteúdo de `/tmp/data/` para as tarefas subsequentes.<br>\n",
    "Use essa pasta para salvar modelos, metadados e outros resultados."
   ]
  },
  {
   "cell_type": "code",
   "execution_count": 60,
   "metadata": {},
   "outputs": [
    {
     "data": {
      "text/plain": [
       "['/tmp/data/model.joblib']"
      ]
     },
     "execution_count": 60,
     "metadata": {},
     "output_type": "execute_result"
    }
   ],
   "source": [
    "from joblib import dump\n",
    "from os import listdir\n",
    "from os.path import isfile, join\n",
    "\n",
    "class_names = load_label_names()\n",
    "\n",
    "model_path = \"/tmp/data\"\n",
    "checkpoints = [f for f in listdir(model_path) if isfile(join(model_path, f)) and f.startswith(\"epoch\")]\n",
    "checkpoint_filepath = sorted(checkpoints, reverse=True)[0]\n",
    "\n",
    "artifacts = {\n",
    "    \"model_path\": join(model_path, checkpoint_filepath),\n",
    "    \"class_names\": class_names\n",
    "}\n",
    "dump(artifacts, \"/tmp/data/model.joblib\")"
   ]
  }
 ],
 "metadata": {
  "celltoolbar": "Tags",
  "kernelspec": {
   "display_name": "Python 3",
   "language": "python",
   "name": "python3"
  },
  "language_info": {
   "codemirror_mode": {
    "name": "ipython",
    "version": 3
   },
   "file_extension": ".py",
   "mimetype": "text/x-python",
   "name": "python",
   "nbconvert_exporter": "python",
   "pygments_lexer": "ipython3",
   "version": "3.7.10"
  }
 },
 "nbformat": 4,
 "nbformat_minor": 4
}