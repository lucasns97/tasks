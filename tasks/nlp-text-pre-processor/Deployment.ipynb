{
 "cells": [
  {
   "cell_type": "markdown",
   "metadata": {},
   "source": [
    "# Text Pre Processor - Implantação\n",
    "\n",
    "Este é um componente que utiliza a biblioteca [nltk](https://www.nltk.org/) e [ftfy](https://pypi.org/project/ftfy/) e [regex](https://docs.python.org/3/library/re.html) para pré processar textos que entrrão em outros componentes.\n",
    "\n",
    "Este notebook apresenta:\n",
    "- como usar o [SDK](https://platiagro.github.io/sdk/) para carregar datasets, salvar modelos e outros artefatos.\n",
    "- como declarar parâmetros e usá-los para criar componentes reutilizáveis.\n",
    "\n",
    "### **Em caso de dúvidas, consulte os [tutoriais da PlatIAgro](https://platiagro.github.io/tutorials/).**"
   ]
  },
  {
   "cell_type": "markdown",
   "metadata": {},
   "source": [
    "## Declaração de Classe para Predições em Tempo Real\n",
    "\n",
    "A tarefa de implantação cria um serviço REST para predições em tempo-real.<br>\n",
    "Para isso você deve criar uma classe `Model` que implementa o método `predict`."
   ]
  },
  {
   "cell_type": "code",
   "execution_count": null,
   "metadata": {},
   "outputs": [],
   "source": [
    "!wget https://raw.githubusercontent.com/platiagro/tasks/main/tasks/nlp-text-pre-processor/pre_processor.py"
   ]
  },
  {
   "cell_type": "code",
   "execution_count": null,
   "metadata": {},
   "outputs": [],
   "source": [
    "%%writefile Model.py\n",
    "import joblib\n",
    "import nltk\n",
    "import pandas as pd\n",
    "import numpy as np\n",
    "from pre_processor import Preprocessor\n",
    "\n",
    "\n",
    "class Model:\n",
    "    \n",
    "    def __init__(self):\n",
    "        \n",
    "        artifacts = joblib.load(\"/tmp/data/preprocessor.joblib\")\n",
    "        self.preprocessing_tasks = artifacts[\"preprocessing_tasks\"]\n",
    "        self.model_parameters = artifacts[\"model_parameters\"]\n",
    "        self.columns = artifacts[\"columns\"]\n",
    "        self.target = artifacts[\"target\"]\n",
    "        \n",
    "            \n",
    "    def class_names(self):\n",
    "        return ['text']\n",
    "\n",
    "    \n",
    "    def predict(self, X, feature_names, meta=None):\n",
    "        \n",
    "        if feature_names:\n",
    "            # Antes de utilizar o conjunto de dados X no modelo, reordena suas features de acordo com a ordem utilizada no treinamento\n",
    "            df = pd.DataFrame(X, columns=self.columns)\n",
    "        \n",
    "        preprocessor = Preprocessor(self.preprocessing_tasks, self.model_parameters)\n",
    "        texts = preprocessor.preprocess(df[self.target].to_numpy())\n",
    "        \n",
    "        return np.array(texts)"
   ]
  },
  {
   "cell_type": "markdown",
   "metadata": {},
   "source": [
    "## Teste do serviço REST\n",
    "\n",
    "Crie um arquivo `contract.json` com os seguintes atributos:\n",
    "\n",
    "- `features` : A lista de features em uma requisição.\n",
    "- `targets` : A lista de valores retornados pelo método `predict`.\n",
    "\n",
    "Cada `feature` pode conter as seguintes informações:\n",
    "\n",
    "- `name` : nome da feature\n",
    "- `ftype` : tipo da feature : **continuous** ou **categorical**\n",
    "- `dtype` : tipo de dado : **FLOAT** ou **INT** : *obrigatório para ftype continuous*\n",
    "- `range` : intervalo de valores numéricos : *obrigatório para ftype continuous*\n",
    "- `values` : lista de valores categóricos : *obrigatório para ftype categorical*\n",
    "\n",
    "Em seguida, utilize a função `test_deployment` do [SDK da PlatIAgro](https://platiagro.github.io/sdk/) para simular predição em tempo-real.<br>"
   ]
  },
  {
   "cell_type": "code",
   "execution_count": null,
   "metadata": {},
   "outputs": [],
   "source": [
    "%%writefile contract.json\n",
    "{\n",
    "    \"features\": [\n",
    "        {\n",
    "            \"name\": \"review\",\n",
    "            \"ftype\": \"categorical\",\n",
    "            \"values\": [\"How are you doing?\"]\n",
    "        },\n",
    "        {\n",
    "            \"name\": \"sentiment\",\n",
    "            \"ftype\": \"categorical\",\n",
    "            \"values\": [\"positive\"]\n",
    "        }\n",
    "    ],\n",
    "    \"targets\": []\n",
    "}"
   ]
  },
  {
   "cell_type": "code",
   "execution_count": null,
   "metadata": {},
   "outputs": [],
   "source": [
    "from platiagro.deployment import test_deployment\n",
    "\n",
    "test_deployment(\"contract.json\")"
   ]
  }
 ],
 "metadata": {
  "celltoolbar": "Tags",
  "experiment_id": "c114f6ba-2bc1-43c7-823d-00360c37f88a",
  "kernelspec": {
   "display_name": "Python 3",
   "language": "python",
   "name": "python3"
  },
  "language_info": {
   "codemirror_mode": {
    "name": "ipython",
    "version": 3
   },
   "file_extension": ".py",
   "mimetype": "text/x-python",
   "name": "python",
   "nbconvert_exporter": "python",
   "pygments_lexer": "ipython3",
   "version": "3.8.6"
  },
  "operator_id": "b9f242c9-4d5d-4c5f-b30d-c63425281213",
  "task_id": "abe6f2d9-53fd-456a-8654-697cd35d3109"
 },
 "nbformat": 4,
 "nbformat_minor": 4
}
