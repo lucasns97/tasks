{
 "cells": [
  {
   "cell_type": "markdown",
   "metadata": {},
   "source": [
    "# Fast RCNN for object detection\n",
    "Este notebook apresenta:\n",
    "- como usar o [SDK](https://platiagro.github.io/sdk/) para carregar datasets e outros artefatos.\n",
    "- como declarar parâmetros e usá-los para criar componentes reutilizáveis.\n",
    "\n",
    "\n",
    "**Este Notebook seguirá os seguintes tutoriais:**\n",
    "- Faster RCNN Train  <br>\n",
    "https://www.kaggle.com/pestipeti/pytorch-starter-fasterrcnn-train <br>\n",
    "- Faster RCNN Inference <br>\n",
    "https://www.kaggle.com/pestipeti/pytorch-starter-fasterrcnn-inference <br>\n",
    "- Faster RCNN Metric + scrpit details <br>\n",
    "https://www.kaggle.com/pestipeti/competition-metric-details-script <br>\n",
    "- TORCHVISION OBJECT DETECTION FINETUNING TUTORIAL <br>\n",
    "https://pytorch.org/tutorials/intermediate/torchvision_tutorial.html <br>\n",
    "- TRANSFER LEARNING FOR COMPUTER VISION TUTORIAL <br>\n",
    "https://pytorch.org/tutorials/beginner/transfer_learning_tutorial.html#transfer-learning-for-computer-vision-tutorial"
   ]
  },
  {
   "cell_type": "code",
   "execution_count": null,
   "metadata": {},
   "outputs": [],
   "source": [
    "!wget https://raw.githubusercontent.com/platiagro/tasks/main/tasks/cv-fasterrcnn/fastrcnn_finetuner.py"
   ]
  },
  {
   "cell_type": "code",
   "execution_count": null,
   "metadata": {},
   "outputs": [],
   "source": [
    "%%writefile Model.py\n",
    "from typing import List, Iterable, Dict, Union\n",
    "\n",
    "import base64\n",
    "import numpy as np\n",
    "\n",
    "from fastrcnn_finetuner import FastRCNNFinetuner\n",
    "\n",
    "class Model:\n",
    "    \n",
    "    \n",
    "    def __init__(self):\n",
    "        # Carrega artefatos: estimador, etc\n",
    "        artifacts = joblib.load(\"/tmp/data/fasterrcnn.joblib\")\n",
    "        self.names = artifacts[\"names\"]\n",
    "        \n",
    "        file_name = 'pytorch_model.pt'\n",
    "        self.model = torch.load(f'/tmp/data/{file_name}')\n",
    "    \n",
    "    \n",
    "    def predict(self, X: np.ndarray, feature_names: Iterable[str], meta: Dict = None) -> Union[np.ndarray, List, str, bytes]:\n",
    "\n",
    "        im_bytes = base64.b64decode(X[0,0])\n",
    "        im_arr = np.frombuffer(im_bytes, dtype=np.uint8)\n",
    "        frame = cv2.imdecode(im_arr, flags=cv2.IMREAD_COLOR)\n",
    "\n",
    "        outputs = self.model.model(frame)\n",
    "        \n",
    "        return np.array(outputs)"
   ]
  }
 ],
 "metadata": {
  "kernelspec": {
   "display_name": "Python 3",
   "language": "python",
   "name": "python3"
  },
  "language_info": {
   "codemirror_mode": {
    "name": "ipython",
    "version": 3
   },
   "file_extension": ".py",
   "mimetype": "text/x-python",
   "name": "python",
   "nbconvert_exporter": "python",
   "pygments_lexer": "ipython3",
   "version": "3.7.4"
  }
 },
 "nbformat": 4,
 "nbformat_minor": 4
}
